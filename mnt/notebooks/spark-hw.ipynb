{
 "cells": [
  {
   "cell_type": "markdown",
   "id": "d17d034e",
   "metadata": {},
   "source": [
    "<div align=\"right\" dir=\"auto\">\n",
    "   \n",
    "#  دیتاست اول(COVID)\n",
    " </div>\n",
    "  "
   ]
  },
  {
   "cell_type": "markdown",
   "id": "8ac4e661",
   "metadata": {},
   "source": [
    "\n",
    "<div align=\"right\" dir=\"auto\">\n",
    "   \n",
    "##  اتصال به کلاستر اسپارک و هدوپ \n",
    "\n",
    "    در این قسمت از تمرین باید به عنوان درایور یک سسشن  به کلاستر اسپارک بسازیم.\n",
    " </div>\n",
    "  \n",
    "* **appName**: application name displayed at the Spark Master Web UI;\n",
    "* **master**: Spark Master URL, same used by Spark Workers;\n",
    "* **spark.executor.memory**: must be less than or equals to docker compose SPARK_WORKER_MEMORY config."
   ]
  },
  {
   "cell_type": "code",
   "execution_count": 1,
   "id": "d9be7e9e",
   "metadata": {
    "ExecuteTime": {
     "end_time": "2024-01-08T15:44:56.716173Z",
     "start_time": "2024-01-08T15:44:55.853903Z"
    }
   },
   "outputs": [],
   "source": [
    "import os\n",
    "import pandas\n",
    "import matplotlib.pyplot as plt\n",
    "import pyspark\n",
    "from pyspark.sql.types import *\n",
    "from pyspark.sql import SparkSession"
   ]
  },
  {
   "cell_type": "code",
   "execution_count": 2,
   "id": "90e388f5",
   "metadata": {
    "ExecuteTime": {
     "end_time": "2024-01-08T15:45:30.852230Z",
     "start_time": "2024-01-08T15:44:57.311628Z"
    }
   },
   "outputs": [
    {
     "name": "stderr",
     "output_type": "stream",
     "text": [
      "WARNING: An illegal reflective access operation has occurred\n",
      "WARNING: Illegal reflective access by org.apache.spark.unsafe.Platform (file:/Users/farhad/Desktop/CC_HW3/hadoop-spark/venv/lib/python3.8/site-packages/pyspark/jars/spark-unsafe_2.12-3.1.1.jar) to constructor java.nio.DirectByteBuffer(long,int)\n",
      "WARNING: Please consider reporting this to the maintainers of org.apache.spark.unsafe.Platform\n",
      "WARNING: Use --illegal-access=warn to enable warnings of further illegal reflective access operations\n",
      "WARNING: All illegal access operations will be denied in a future release\n",
      "24/01/08 19:15:29 WARN NativeCodeLoader: Unable to load native-hadoop library for your platform... using builtin-java classes where applicable\n",
      "Using Spark's default log4j profile: org/apache/spark/log4j-defaults.properties\n",
      "Setting default log level to \"WARN\".\n",
      "To adjust logging level use sc.setLogLevel(newLevel). For SparkR, use setLogLevel(newLevel).\n"
     ]
    },
    {
     "data": {
      "text/plain": "<pyspark.sql.session.SparkSession at 0x11d669790>",
      "text/html": "\n            <div>\n                <p><b>SparkSession - in-memory</b></p>\n                \n        <div>\n            <p><b>SparkContext</b></p>\n\n            <p><a href=\"http://192.168.4.73:4040\">Spark UI</a></p>\n\n            <dl>\n              <dt>Version</dt>\n                <dd><code>v3.1.1</code></dd>\n              <dt>Master</dt>\n                <dd><code>spark://localhost:7077</code></dd>\n              <dt>AppName</dt>\n                <dd><code>spark-test</code></dd>\n            </dl>\n        </div>\n        \n            </div>\n        "
     },
     "execution_count": 2,
     "metadata": {},
     "output_type": "execute_result"
    }
   ],
   "source": [
    "spark = SparkSession.builder.appName('spark-test').master('spark://localhost:7077').config('spark.executor.memory', '1G').getOrCreate()\n",
    "spark"
   ]
  },
  {
   "cell_type": "markdown",
   "id": "a84b7f67",
   "metadata": {},
   "source": [
    "\n",
    "<div align=\"right\" dir=\"auto\">\n",
    "   \n",
    "#  خواندن داده \n",
    "\n",
    "    :در اسپارک ما ساختارهای مختلفی برای کار با داده و پخش شدن آن‌ها در شبکه داریم که به ۳ دسته تقسیم بندی میشوند \n",
    "+ RDD\n",
    "+ Dataset\n",
    "+ DataFrame\n",
    "    \n",
    "    \n",
    "     برای مطالعه بیشتر به لینک زیر مراجعه کنید:\n",
    "[rdd-vs-dataframe-vs-dataset](https://phoenixnap.com/kb/rdd-vs-dataframe-vs-dataset)\n",
    "\n",
    "    ما در درس با ساختار RDD آشنا شدیم حال در این تمرین میخواهیم با ساختار Dataframe آشنا شویم و به کمک آن دیتا را از روی HDFS بخوانیم و روی آن فایل‌ها پردازش انجام دهیم\n",
    " \n",
    " </div>\n",
    "  \n",
    "    "
   ]
  },
  {
   "cell_type": "code",
   "execution_count": 3,
   "id": "1b3d5238",
   "metadata": {
    "ExecuteTime": {
     "end_time": "2024-01-08T15:45:31.060258Z",
     "start_time": "2024-01-08T15:45:30.839112Z"
    }
   },
   "outputs": [
    {
     "name": "stdout",
     "output_type": "stream",
     "text": [
      "Loading data from csv ./data/covid.csv\n",
      "Loading data from csv ./data/.ipynb_checkpoints/covid-checkpoint.csv\n"
     ]
    }
   ],
   "source": [
    "# The data from covid.csv will be loaded from a local file path\n",
    "for path, subdirs, files in os.walk('./data/'):\n",
    "    for name in files:\n",
    "        if \"covid\" in name:\n",
    "            csvName = name\n",
    "            csvPath = os.path.join(path, name)\n",
    "            print(\"Loading data from csv {}\".format(csvPath))\n",
    "            covidDfPandas = pandas.read_csv(csvPath)"
   ]
  },
  {
   "cell_type": "code",
   "execution_count": 4,
   "id": "18a0860b",
   "metadata": {
    "ExecuteTime": {
     "end_time": "2024-01-08T15:45:31.085698Z",
     "start_time": "2024-01-08T15:45:31.055611Z"
    }
   },
   "outputs": [],
   "source": [
    "# Structure of data in the DataFrame\n",
    "schema = StructType([\n",
    "    StructField(\"dateRep\", StringType(), True),\n",
    "    StructField(\"day\", IntegerType(), True),\n",
    "    StructField(\"month\", IntegerType(), True),\n",
    "    StructField(\"year\", IntegerType(), True),\n",
    "    StructField(\"cases\", IntegerType(), True),\n",
    "    StructField(\"deaths\", IntegerType(), True),\n",
    "    StructField(\"countriesAndTerritories\", StringType(), True),\n",
    "    StructField(\"geoId\", StringType(), True),\n",
    "    StructField(\"countryterritoryCode\", StringType(), True),\n",
    "    StructField(\"popData2019\", FloatType(), True),\n",
    "    StructField(\"continentExp\", StringType(), True),\n",
    "    StructField(\"Cumulative_number_for_14_days_of_COVID-19_cases_per_100000\", DoubleType(), True),\n",
    "])"
   ]
  },
  {
   "cell_type": "markdown",
   "id": "61f3ce61",
   "metadata": {},
   "source": [
    "\n",
    "<div align=\"right\" dir=\"auto\">\n",
    "یک DataFrame از Pandas را به یک DataFrame از Spark تبدیل کنید و سپس طرح ساختاری و برخی از داده‌ها را نمایش دهید.\n",
    " </div>\n",
    "  \n",
    "    \n",
    "\n",
    "\n"
   ]
  },
  {
   "cell_type": "code",
   "execution_count": 5,
   "id": "001721be",
   "metadata": {
    "ExecuteTime": {
     "end_time": "2024-01-08T15:45:33.170834Z",
     "start_time": "2024-01-08T15:45:31.071521Z"
    }
   },
   "outputs": [
    {
     "name": "stdout",
     "output_type": "stream",
     "text": [
      "root\n",
      " |-- dateRep: string (nullable = true)\n",
      " |-- day: integer (nullable = true)\n",
      " |-- month: integer (nullable = true)\n",
      " |-- year: integer (nullable = true)\n",
      " |-- cases: integer (nullable = true)\n",
      " |-- deaths: integer (nullable = true)\n",
      " |-- countriesAndTerritories: string (nullable = true)\n",
      " |-- geoId: string (nullable = true)\n",
      " |-- countryterritoryCode: string (nullable = true)\n",
      " |-- popData2019: float (nullable = true)\n",
      " |-- continentExp: string (nullable = true)\n",
      " |-- Cumulative_number_for_14_days_of_COVID-19_cases_per_100000: double (nullable = true)\n"
     ]
    }
   ],
   "source": [
    "# Convert Pandas DataFrame to Spark DataFrame with defined schema\n",
    "covidDfSpark = spark.createDataFrame(covidDfPandas.values.tolist(), schema=schema)\n",
    "\n",
    "# Show the DataFrame schema and some data\n",
    "covidDfSpark.printSchema()"
   ]
  },
  {
   "cell_type": "markdown",
   "id": "60b0b189",
   "metadata": {},
   "source": [
    "\n",
    "<div align=\"right\" dir=\"auto\">\n",
    "   \n",
    "#  اسپارک SQL \n",
    "\n",
    "    مهمترین قابلیت اسپارک این است که می‌تواند با خواندن فایل‌ها به صورت توزیع شده روی آن‌ها پردازش انجام دهد و این پردازش را برنامه ‌نویس میتواند با استفاده از دستورات SQL اعمال کند\n",
    "    در این بخش از شما انتظار می‌رود که به وسیله spark SQL  به اسپارک کوئری  بزنید . \n",
    "    \n",
    "    \n",
    " </div>\n",
    "\n",
    "[pyspark.sql.functions.col](https://spark.apache.org/docs/latest/api/python/reference/pyspark.sql/api/pyspark.sql.functions.col.html)\n",
    "\n",
    "[pyspark.sql.DataFrame.count](https://spark.apache.org/docs/latest/api/python/reference/pyspark.sql/api/pyspark.sql.DataFrame.count.html)\n",
    "\n",
    "[pyspark.sql.DataFrame.filter](https://spark.apache.org/docs/latest/api/python/reference/pyspark.sql/api/pyspark.sql.DataFrame.filter.html)\n",
    "\n",
    "[pyspark.sql.DataFrame.groupBy](https://spark.apache.org/docs/3.1.1/api/python/reference/api/pyspark.sql.DataFrame.groupBy.html)"
   ]
  },
  {
   "cell_type": "markdown",
   "id": "c16157bb",
   "metadata": {},
   "source": [
    "<div align=\"right\" dir=\"auto\">\n",
    "برای اینکه بتوانیم روی دیتای لود شده به وسیله تابع  spark.sql\n",
    "    کوئری‌های SQL بزنیم\n",
    "    باید دو دیتاست لود شده را به عنوان table\n",
    "    به spark \n",
    "    معرفی کنیم\n",
    "</div>"
   ]
  },
  {
   "cell_type": "code",
   "execution_count": 6,
   "id": "f074a117",
   "metadata": {
    "ExecuteTime": {
     "end_time": "2024-01-08T15:45:33.543220Z",
     "start_time": "2024-01-08T15:45:33.146312Z"
    }
   },
   "outputs": [],
   "source": [
    "covidDfSpark.registerTempTable(\"covid\")"
   ]
  },
  {
   "cell_type": "markdown",
   "id": "5c01fd06",
   "metadata": {},
   "source": [
    "<div align=\"right\" dir=\"auto\">\n",
    " ده رکورد آخر را نمایش دهید\n",
    "</div>"
   ]
  },
  {
   "cell_type": "code",
   "execution_count": 7,
   "id": "b47fcece",
   "metadata": {
    "ExecuteTime": {
     "end_time": "2024-01-08T15:45:37.341747Z",
     "start_time": "2024-01-08T15:45:33.520777Z"
    }
   },
   "outputs": [
    {
     "name": "stderr",
     "output_type": "stream",
     "text": [
      "24/01/08 19:15:34 WARN TaskSetManager: Stage 0 contains a task of very large size (1650 KiB). The maximum recommended task size is 1000 KiB.\n",
      "[Stage 0:>                                                          (0 + 2) / 2]\r"
     ]
    },
    {
     "name": "stdout",
     "output_type": "stream",
     "text": [
      "+----------+---+-----+----+-----+------+-----------------------+-----+--------------------+-----------+------------+----------------------------------------------------------+\n",
      "|   dateRep|day|month|year|cases|deaths|countriesAndTerritories|geoId|countryterritoryCode|popData2019|continentExp|Cumulative_number_for_14_days_of_COVID-19_cases_per_100000|\n",
      "+----------+---+-----+----+-----+------+-----------------------+-----+--------------------+-----------+------------+----------------------------------------------------------+\n",
      "|14/12/2020| 14|   12|2020|    0|     0|               Anguilla|   AI|                 AIA|    14872.0|     America|                                               40.34427111|\n",
      "|14/12/2020| 14|   12|2020|    6|     0|              Australia|   AU|                 AUS|  2.52032E7|     Oceania|                                                0.54754952|\n",
      "|14/12/2020| 14|   12|2020|  746|     6|            Afghanistan|   AF|                 AFG|3.8041756E7|        Asia|                                                9.01377925|\n",
      "|14/12/2020| 14|   12|2020|   50|     1|                Andorra|   AD|                 AND|    76177.0|      Europe|                                              821.77035063|\n",
      "|14/12/2020| 14|   12|2020|   27|     5|                 Angola|   AO|                 AGO|  3.18253E7|      Africa|                                                3.40923741|\n",
      "|14/12/2020| 14|   12|2020|  788|    14|                Albania|   AL|                 ALB|  2862427.0|      Europe|                                              380.97041427|\n",
      "|14/12/2020| 14|   12|2020|  464|    12|                Algeria|   DZ|                 DZA|4.3053056E7|      Africa|                                               22.95075281|\n",
      "|14/12/2020| 14|   12|2020|    0|     0|    Antigua_and_Barbuda|   AG|                 ATG|    97115.0|     America|                                                7.20794934|\n",
      "|14/12/2020| 14|   12|2020| 3558|    98|              Argentina|   AR|                 ARG|4.4780676E7|     America|                                              177.23270138|\n",
      "|14/12/2020| 14|   12|2020|  357|    17|                Armenia|   AM|                 ARM|  2957728.0|      Europe|                                              458.39238767|\n",
      "+----------+---+-----+----+-----+------+-----------------------+-----+--------------------+-----------+------------+----------------------------------------------------------+\n"
     ]
    },
    {
     "name": "stderr",
     "output_type": "stream",
     "text": [
      "                                                                                \r"
     ]
    }
   ],
   "source": [
    "covidDfSpark.createOrReplaceTempView(\"table\")\n",
    "spark.sql(\"select * from table order by year desc, month desc, day desc;\").show(10)"
   ]
  },
  {
   "cell_type": "markdown",
   "id": "717c41bd",
   "metadata": {},
   "source": [
    "<div align=\"right\" dir=\"auto\">\n",
    "اسکیما یا ساختار دیتاست ها را نمایش دهید\n",
    "\n",
    "</div>"
   ]
  },
  {
   "cell_type": "code",
   "execution_count": 8,
   "id": "ab2a3f6e",
   "metadata": {
    "ExecuteTime": {
     "end_time": "2024-01-08T15:45:37.486063Z",
     "start_time": "2024-01-08T15:45:37.341900Z"
    }
   },
   "outputs": [
    {
     "name": "stdout",
     "output_type": "stream",
     "text": [
      "+--------------------+---------+-------+\n",
      "|            col_name|data_type|comment|\n",
      "+--------------------+---------+-------+\n",
      "|             dateRep|   string|   null|\n",
      "|                 day|      int|   null|\n",
      "|               month|      int|   null|\n",
      "|                year|      int|   null|\n",
      "|               cases|      int|   null|\n",
      "|              deaths|      int|   null|\n",
      "|countriesAndTerri...|   string|   null|\n",
      "|               geoId|   string|   null|\n",
      "|countryterritoryCode|   string|   null|\n",
      "|         popData2019|    float|   null|\n",
      "|        continentExp|   string|   null|\n",
      "|Cumulative_number...|   double|   null|\n",
      "+--------------------+---------+-------+\n"
     ]
    }
   ],
   "source": [
    "spark.sql(\"describe table;\").show()"
   ]
  },
  {
   "cell_type": "code",
   "execution_count": 9,
   "id": "7863a98c",
   "metadata": {
    "ExecuteTime": {
     "end_time": "2024-01-08T15:45:37.651129Z",
     "start_time": "2024-01-08T15:45:37.448841Z"
    }
   },
   "outputs": [
    {
     "name": "stdout",
     "output_type": "stream",
     "text": [
      "root\n",
      " |-- dateRep: string (nullable = true)\n",
      " |-- day: integer (nullable = true)\n",
      " |-- month: integer (nullable = true)\n",
      " |-- year: integer (nullable = true)\n",
      " |-- cases: integer (nullable = true)\n",
      " |-- deaths: integer (nullable = true)\n",
      " |-- countriesAndTerritories: string (nullable = true)\n",
      " |-- geoId: string (nullable = true)\n",
      " |-- countryterritoryCode: string (nullable = true)\n",
      " |-- popData2019: float (nullable = true)\n",
      " |-- continentExp: string (nullable = true)\n",
      " |-- Cumulative_number_for_14_days_of_COVID-19_cases_per_100000: double (nullable = true)\n"
     ]
    }
   ],
   "source": [
    "covidDfSpark.printSchema()"
   ]
  },
  {
   "cell_type": "markdown",
   "id": "650732f2",
   "metadata": {},
   "source": [
    "<div align=\"right\" dir=\"auto\">\n",
    "داده‌های مربوط به ستون   countryterritoryCode ,deaths را پرینت کنید(۱۰تا) \n",
    "\n",
    "</div>"
   ]
  },
  {
   "cell_type": "code",
   "execution_count": 10,
   "id": "965001d1",
   "metadata": {
    "ExecuteTime": {
     "end_time": "2024-01-08T15:45:38.181521Z",
     "start_time": "2024-01-08T15:45:37.453065Z"
    }
   },
   "outputs": [
    {
     "name": "stderr",
     "output_type": "stream",
     "text": [
      "24/01/08 19:15:37 WARN TaskSetManager: Stage 1 contains a task of very large size (1650 KiB). The maximum recommended task size is 1000 KiB.\n"
     ]
    },
    {
     "name": "stdout",
     "output_type": "stream",
     "text": [
      "+--------------------+------+\n",
      "|countryterritoryCode|deaths|\n",
      "+--------------------+------+\n",
      "|                 AFG|     6|\n",
      "|                 AFG|     9|\n",
      "|                 AFG|    11|\n",
      "|                 AFG|    10|\n",
      "|                 AFG|    16|\n",
      "|                 AFG|    13|\n",
      "|                 AFG|     6|\n",
      "|                 AFG|    26|\n",
      "|                 AFG|    10|\n",
      "|                 AFG|    18|\n",
      "|                 AFG|     5|\n",
      "|                 AFG|    19|\n",
      "|                 AFG|    48|\n",
      "|                 AFG|    11|\n",
      "|                 AFG|     0|\n",
      "|                 AFG|    11|\n",
      "|                 AFG|    15|\n",
      "|                 AFG|     0|\n",
      "|                 AFG|    12|\n",
      "|                 AFG|    13|\n",
      "+--------------------+------+\n"
     ]
    }
   ],
   "source": [
    "spark.sql(\"select countryterritoryCode, deaths from table;\").show()"
   ]
  },
  {
   "cell_type": "markdown",
   "id": "a4ed8916",
   "metadata": {},
   "source": [
    "<div align=\"right\" dir=\"auto\">\n",
    "تعداد کل موارد Covid برابر است با?\n",
    "</div>"
   ]
  },
  {
   "cell_type": "code",
   "execution_count": 11,
   "id": "b0c508c2",
   "metadata": {
    "ExecuteTime": {
     "end_time": "2024-01-08T15:45:42.756548Z",
     "start_time": "2024-01-08T15:45:37.935778Z"
    }
   },
   "outputs": [
    {
     "name": "stderr",
     "output_type": "stream",
     "text": [
      "24/01/08 19:15:38 WARN TaskSetManager: Stage 2 contains a task of very large size (1650 KiB). The maximum recommended task size is 1000 KiB.\n",
      "[Stage 3:>                                                          (0 + 1) / 1]\r"
     ]
    },
    {
     "name": "stdout",
     "output_type": "stream",
     "text": [
      "+----------+\n",
      "|sum(cases)|\n",
      "+----------+\n",
      "|  71503614|\n",
      "+----------+\n"
     ]
    },
    {
     "name": "stderr",
     "output_type": "stream",
     "text": [
      "                                                                                \r"
     ]
    }
   ],
   "source": [
    "spark.sql(\"select sum(cases) from table;\").show()"
   ]
  },
  {
   "cell_type": "markdown",
   "id": "1c90f7ee",
   "metadata": {},
   "source": [
    "<div align=\"right\" dir=\"auto\">\n",
    "مجموع موارد کروناویروس در اکتبر ۲۰۲۰ در بلژیک را به دست آورید.\n",
    "</div>\n",
    "\n"
   ]
  },
  {
   "cell_type": "code",
   "execution_count": 12,
   "id": "b9b06a2a",
   "metadata": {
    "ExecuteTime": {
     "end_time": "2024-01-08T15:45:44.777996Z",
     "start_time": "2024-01-08T15:45:42.653118Z"
    }
   },
   "outputs": [
    {
     "name": "stderr",
     "output_type": "stream",
     "text": [
      "24/01/08 19:15:42 WARN TaskSetManager: Stage 4 contains a task of very large size (1650 KiB). The maximum recommended task size is 1000 KiB.\n",
      "[Stage 4:>                                                          (0 + 2) / 2]\r"
     ]
    },
    {
     "name": "stdout",
     "output_type": "stream",
     "text": [
      "+----------+\n",
      "|sum(cases)|\n",
      "+----------+\n",
      "|    320023|\n",
      "+----------+\n"
     ]
    },
    {
     "name": "stderr",
     "output_type": "stream",
     "text": [
      "                                                                                \r"
     ]
    }
   ],
   "source": [
    "spark.sql(\"select sum(cases) from table where month = 10 and year = 2020 and countriesAndTerritories = 'Belgium';\").show()"
   ]
  },
  {
   "cell_type": "markdown",
   "id": "d8a17df2",
   "metadata": {},
   "source": [
    "\n",
    "<div align=\"right\" dir=\"auto\">\n",
    "جمع تعداد موارد و مرگ‌ها در کشورهای آسیا به دست آورید.\n",
    " \n",
    " </div>\n"
   ]
  },
  {
   "cell_type": "code",
   "execution_count": 13,
   "id": "1bc7105b",
   "metadata": {
    "ExecuteTime": {
     "end_time": "2024-01-08T15:45:49.136686Z",
     "start_time": "2024-01-08T15:45:44.519933Z"
    }
   },
   "outputs": [
    {
     "name": "stderr",
     "output_type": "stream",
     "text": [
      "24/01/08 19:15:44 WARN TaskSetManager: Stage 6 contains a task of very large size (1650 KiB). The maximum recommended task size is 1000 KiB.\n",
      "[Stage 13:=====================================>                 (68 + 2) / 100]\r"
     ]
    },
    {
     "name": "stdout",
     "output_type": "stream",
     "text": [
      "+--------------------+-----------+----------+\n",
      "|countryterritoryCode|sum(deaths)|sum(cases)|\n",
      "+--------------------+-----------+----------+\n",
      "|                 PSE|       1079|    124657|\n",
      "|                 JOR|       3365|    259614|\n",
      "|                 BRN|          3|       152|\n",
      "|                 QAT|        240|    140961|\n",
      "|                 ARE|        617|    184949|\n",
      "|                 TJK|         88|     12704|\n",
      "|                 NPL|       1698|    248423|\n",
      "|                 AFG|       1971|     49273|\n",
      "|                 BGD|       7052|    490533|\n",
      "|                 YEM|        606|      2083|\n",
      "|                 MNG|          0|       912|\n",
      "|                 THA|         60|      4237|\n",
      "|                 IRQ|      12579|    574634|\n",
      "|                 TLS|          0|        31|\n",
      "|                 SAU|       6048|    359888|\n",
      "|                 BHR|        348|     89143|\n",
      "|                 KWT|        911|    146218|\n",
      "|                 PAK|       8832|    440787|\n",
      "|             CNG1925|          7|       740|\n",
      "|                 OMN|       1471|    126240|\n",
      "+--------------------+-----------+----------+\n"
     ]
    },
    {
     "name": "stderr",
     "output_type": "stream",
     "text": [
      "                                                                                \r"
     ]
    }
   ],
   "source": [
    "spark.sql(\"select countryterritoryCode, sum(deaths), sum(cases) from table where continentExp = 'Asia' Group by countryterritoryCode;\").show()"
   ]
  },
  {
   "cell_type": "markdown",
   "id": "f2e3b305",
   "metadata": {},
   "source": [
    "\n",
    "<div align=\"right\" dir=\"auto\">\n",
    "میانگین تعداد موارد و مرگ‌ها در کشورهای آسیا به دست آورید.\n",
    " \n",
    " </div>\n"
   ]
  },
  {
   "cell_type": "code",
   "execution_count": 14,
   "id": "36135c8e",
   "metadata": {
    "ExecuteTime": {
     "end_time": "2024-01-08T15:45:52.252800Z",
     "start_time": "2024-01-08T15:45:49.143769Z"
    }
   },
   "outputs": [
    {
     "name": "stderr",
     "output_type": "stream",
     "text": [
      "24/01/08 19:15:49 WARN TaskSetManager: Stage 14 contains a task of very large size (1650 KiB). The maximum recommended task size is 1000 KiB.\n",
      "[Stage 21:==============================>                        (56 + 2) / 100]\r"
     ]
    },
    {
     "name": "stdout",
     "output_type": "stream",
     "text": [
      "+--------------------+--------------------+-------------------+\n",
      "|countryterritoryCode|         avg(deaths)|         avg(cases)|\n",
      "+--------------------+--------------------+-------------------+\n",
      "|                 PSE|  3.8398576512455516| 443.61921708185054|\n",
      "|                 JOR|  12.148014440433213|  937.2346570397112|\n",
      "|                 BRN|0.010752688172043012| 0.5448028673835126|\n",
      "|                 QAT|  0.6936416184971098|  407.4017341040462|\n",
      "|                 ARE|  1.7936046511627908|  537.6424418604652|\n",
      "|                 TJK| 0.38596491228070173| 55.719298245614034|\n",
      "|                 NPL|  5.0385756676557865|   737.160237388724|\n",
      "|                 AFG|   5.797058823529412|  144.9205882352941|\n",
      "|                 BGD|  25.643636363636364| 1783.7563636363636|\n",
      "|                 YEM|   2.433734939759036|  8.365461847389557|\n",
      "|                 MNG|                 0.0| 3.3284671532846715|\n",
      "|                 THA|  0.1749271137026239| 12.352769679300291|\n",
      "|                 IRQ|   36.14655172413793| 1651.2471264367816|\n",
      "|                 TLS|                 0.0|0.11567164179104478|\n",
      "|                 SAU|  21.295774647887324| 1267.2112676056338|\n",
      "|                 BHR|   0.997134670487106|  255.4240687679083|\n",
      "|                 KWT|  2.6253602305475505| 421.37752161383287|\n",
      "|                 PAK|                25.6| 1277.6434782608696|\n",
      "|             CNG1925|                0.02| 2.1142857142857143|\n",
      "|                 OMN|   4.276162790697675|  366.9767441860465|\n",
      "+--------------------+--------------------+-------------------+\n"
     ]
    },
    {
     "name": "stderr",
     "output_type": "stream",
     "text": [
      "                                                                                \r"
     ]
    }
   ],
   "source": [
    "spark.sql(\"select countryterritoryCode, avg(deaths), avg(cases) from table where continentExp = 'Asia' Group by countryterritoryCode;\").show()"
   ]
  },
  {
   "cell_type": "markdown",
   "id": "320c7362",
   "metadata": {},
   "source": [
    "\n",
    "<div align=\"right\" dir=\"auto\">\n",
    "جمع مرگ‌های کووید در اروپا بر اساس تاریخ به دست آورید.\n",
    " \n",
    " </div>"
   ]
  },
  {
   "cell_type": "code",
   "execution_count": 15,
   "id": "0f563c90",
   "metadata": {
    "ExecuteTime": {
     "end_time": "2024-01-08T15:45:53.687799Z",
     "start_time": "2024-01-08T15:45:52.258208Z"
    }
   },
   "outputs": [
    {
     "name": "stderr",
     "output_type": "stream",
     "text": [
      "24/01/08 19:15:52 WARN TaskSetManager: Stage 22 contains a task of very large size (1650 KiB). The maximum recommended task size is 1000 KiB.\n",
      "                                                                                \r"
     ]
    },
    {
     "name": "stdout",
     "output_type": "stream",
     "text": [
      "+-----------+----------+\n",
      "|sum(deaths)|   dateRep|\n",
      "+-----------+----------+\n",
      "|       5716|04/12/2020|\n",
      "|       4051|05/11/2020|\n",
      "|       3515|23/11/2020|\n",
      "|       2419|02/11/2020|\n",
      "|       2809|28/03/2020|\n",
      "|          0|19/01/2020|\n",
      "|          4|25/02/2020|\n",
      "|          0|04/01/2020|\n",
      "|         55|07/03/2020|\n",
      "|       3332|08/11/2020|\n",
      "|          0|15/01/2020|\n",
      "|          0|13/02/2020|\n",
      "|          0|18/01/2020|\n",
      "|          8|01/03/2020|\n",
      "|          0|06/01/2020|\n",
      "|        270|17/08/2020|\n",
      "|        372|05/07/2020|\n",
      "|        276|24/08/2020|\n",
      "|        270|04/08/2020|\n",
      "|          0|07/02/2020|\n",
      "+-----------+----------+\n"
     ]
    }
   ],
   "source": [
    "spark.sql(\"select sum(deaths), dateRep from table where continentExp = 'Europe' Group by dateRep;\").show()"
   ]
  },
  {
   "cell_type": "markdown",
   "id": "0668c3ed",
   "metadata": {},
   "source": [
    "\n",
    "<div align=\"right\" dir=\"auto\">\n",
    "   \n",
    "#  اسپارک toPandas \n",
    "\n",
    "    یکی ار قابلیت‌های اسپارک این است که می‌توان dataframe های آن را به \n",
    "    dataframe های pandas تبدیل کند و از توابع آن از جمله\n",
    "    توابع plot  آن برای رسم نمودار استفاده کرد.\n",
    "    در این قسمت از شما انتظار می‌رود نمودار تعداد جنگ‌ها بر اساس هر گونه را رسم کنید.\n",
    "    \n",
    " </div>\n",
    "  \n",
    "    \n",
    "\n",
    "  \n",
    "[pyspark.sql.DataFrame.toPandas](https://spark.apache.org/docs/latest/api/python/reference/pyspark.sql/api/pyspark.sql.DataFrame.toPandas.html)\n",
    "\n",
    "[pyspark.pandas.DataFrame.plot](https://spark.apache.org/docs/3.2.1/api/python/reference/pyspark.pandas/api/pyspark.pandas.DataFrame.plot.html)\n"
   ]
  },
  {
   "cell_type": "markdown",
   "id": "3afab484",
   "metadata": {},
   "source": [
    "\n",
    "<div align=\"right\" dir=\"auto\">\n",
    "جمع موارد و مرگ‌ها برای هر قاره را به دست آورید.\n",
    " \n",
    " </div>"
   ]
  },
  {
   "cell_type": "code",
   "execution_count": 16,
   "id": "c3d413c6",
   "metadata": {
    "ExecuteTime": {
     "end_time": "2024-01-08T15:45:59.770562Z",
     "start_time": "2024-01-08T15:45:53.678736Z"
    }
   },
   "outputs": [
    {
     "name": "stderr",
     "output_type": "stream",
     "text": [
      "24/01/08 19:15:53 WARN TaskSetManager: Stage 28 contains a task of very large size (1650 KiB). The maximum recommended task size is 1000 KiB.\n",
      "                                                                                \r"
     ]
    },
    {
     "name": "stdout",
     "output_type": "stream",
     "text": [
      "+------------+-----------+\n",
      "|continentExp|sum(deaths)|\n",
      "+------------+-----------+\n",
      "|      Europe|     479789|\n",
      "|      Africa|      56334|\n",
      "|       Other|          7|\n",
      "|     Oceania|       1154|\n",
      "|        Asia|     290129|\n",
      "|     America|     785420|\n",
      "+------------+-----------+\n"
     ]
    },
    {
     "name": "stderr",
     "output_type": "stream",
     "text": [
      "24/01/08 19:15:57 WARN TaskSetManager: Stage 38 contains a task of very large size (1650 KiB). The maximum recommended task size is 1000 KiB.\n",
      "                                                                                \r"
     ]
    },
    {
     "data": {
      "text/plain": "<Axes: xlabel='continentExp'>"
     },
     "execution_count": 16,
     "metadata": {},
     "output_type": "execute_result"
    },
    {
     "data": {
      "text/plain": "<Figure size 640x480 with 1 Axes>",
      "image/png": "[encoded data removed]"
     },
     "metadata": {},
     "output_type": "display_data"
    }
   ],
   "source": [
    "data = spark.sql(\"select continentExp, sum(deaths) from table Group by continentExp;\")\n",
    "data.show()\n",
    "pd = data.toPandas()\n",
    "pd.plot.bar(x='continentExp', y='sum(deaths)') "
   ]
  },
  {
   "cell_type": "markdown",
   "id": "dc50faa7",
   "metadata": {},
   "source": [
    "<div align=\"right\" dir=\"auto\">\n",
    "نمودار مبتلایان در طور زمان را برای کشور ایران را بنویسید. \n",
    "    \n",
    " </div>\n",
    "  "
   ]
  },
  {
   "cell_type": "code",
   "execution_count": 17,
   "id": "c009b28e",
   "metadata": {
    "ExecuteTime": {
     "end_time": "2024-01-08T15:46:10.621368Z",
     "start_time": "2024-01-08T15:45:59.679153Z"
    }
   },
   "outputs": [
    {
     "name": "stderr",
     "output_type": "stream",
     "text": [
      "24/01/08 19:15:59 WARN TaskSetManager: Stage 40 contains a task of very large size (1650 KiB). The maximum recommended task size is 1000 KiB.\n",
      "                                                                                \r"
     ]
    },
    {
     "data": {
      "text/plain": "<Figure size 640x480 with 1 Axes>",
      "image/png": "[encoded data removed]"
     },
     "metadata": {},
     "output_type": "display_data"
    }
   ],
   "source": [
    "iran = spark.sql(\"select dateRep as date, year, month, day, sum(cases) from table where countriesAndTerritories = 'Iran' Group by dateRep, year, month, day order by (year, month, day);\")\n",
    "pd = iran.toPandas()\n",
    "pd.plot.line(x='date', y='sum(cases)')\n",
    "plt.xticks(rotation=45) \n",
    "plt.show()"
   ]
  },
  {
   "cell_type": "code",
   "execution_count": 18,
   "id": "e3f74f6b",
   "metadata": {
    "ExecuteTime": {
     "end_time": "2024-01-08T15:46:14.044252Z",
     "start_time": "2024-01-08T15:46:10.615903Z"
    }
   },
   "outputs": [
    {
     "name": "stderr",
     "output_type": "stream",
     "text": [
      "24/01/08 19:16:10 WARN TaskSetManager: Stage 45 contains a task of very large size (1650 KiB). The maximum recommended task size is 1000 KiB.\n",
      "[Stage 46:===================================>                  (132 + 1) / 200]\r"
     ]
    },
    {
     "name": "stdout",
     "output_type": "stream",
     "text": [
      "+----------+\n",
      "|      date|\n",
      "+----------+\n",
      "|31/12/2019|\n",
      "|01/01/2020|\n",
      "|02/01/2020|\n",
      "|03/01/2020|\n",
      "|04/01/2020|\n",
      "|05/01/2020|\n",
      "|06/01/2020|\n",
      "|07/01/2020|\n",
      "|08/01/2020|\n",
      "|09/01/2020|\n",
      "|10/01/2020|\n",
      "|11/01/2020|\n",
      "|12/01/2020|\n",
      "|13/01/2020|\n",
      "|14/01/2020|\n",
      "|15/01/2020|\n",
      "|16/01/2020|\n",
      "|17/01/2020|\n",
      "|18/01/2020|\n",
      "|19/01/2020|\n",
      "+----------+\n"
     ]
    },
    {
     "name": "stderr",
     "output_type": "stream",
     "text": [
      "                                                                                \r"
     ]
    }
   ],
   "source": [
    "# Assuming you have a DataFrame named covidDfSpark\n",
    "iran.select('date').show(20)"
   ]
  },
  {
   "cell_type": "markdown",
   "id": "edeb0786",
   "metadata": {},
   "source": [
    "\n",
    "<div align=\"right\" dir=\"auto\">\n",
    "   \n",
    "#  اسپارک Shuffle \n",
    "\n",
    "    Spark SQL shuffle مکانیزمی است برای توزیع مجدد یا پارتیشن بندی مجدد داده ها به طوری که داده ها به طور متفاوت در پارتیشن ها گروه بندی می شوند، بر اساس اندازه داده شما ممکن است نیاز باشد تعداد پارتیشن های RDD/DataFrame را با استفاده از اسپارک کاهش یا افزایش دهید.\n",
    "    برای مثال وقتی روی دو dataframe مختلف که روی شبکه توزیع شده اند\n",
    "    دستور join را میزنیم یک عملیات \n",
    "    shuffling انجام میشود\n",
    "    در این قسمت از شما انتظار می‌رود کوئری جوین زیر را نوشته و اجرا کنید همچنین به  صفحه \n",
    "    application master ui\n",
    "    مراجعه کنید و نحوه shuffleing را گزارش کنید . \n",
    "     و همچنین توضیح دهید DAG scheduler  در اسپارک چیست ؟\n",
    " </div>\n",
    "  \n",
    "    \n",
    "\n",
    "  \n",
    "[shuffling in standalone cluster](https://medium.com/@rachit1arora/apache-spark-shuffle-service-there-are-more-than-one-options-c1a8e098230e)\n",
    "\n"
   ]
  },
  {
   "cell_type": "markdown",
   "id": "94a81987",
   "metadata": {},
   "source": [
    "\n",
    "\n",
    "<div align=\"right\" dir=\"auto\">\n",
    "از desc در PySpark برای مرتب‌سازی نزولی استفاده  کرده و با استفاده از alias یک self-join روی DataFrame covidDfSpark انجام دهید، سپس با گروه‌بندی بر اساس ستون a.continentExp از داده‌های پیوسته، تعداد وقوع‌ها شمرده شده و نتایج نمایش دهید. \n",
    "</div>\n",
    "\n"
   ]
  },
  {
   "cell_type": "code",
   "execution_count": 19,
   "id": "535f6324",
   "metadata": {
    "ExecuteTime": {
     "end_time": "2024-01-08T15:48:59.067821Z",
     "start_time": "2024-01-08T15:46:14.047925Z"
    }
   },
   "outputs": [
    {
     "name": "stderr",
     "output_type": "stream",
     "text": [
      "24/01/08 19:16:14 WARN TaskSetManager: Stage 47 contains a task of very large size (1650 KiB). The maximum recommended task size is 1000 KiB.\n",
      "                                                                                \r"
     ]
    },
    {
     "name": "stdout",
     "output_type": "stream",
     "text": [
      "+------------+-------------------+\n",
      "|continentExp|count(continentExp)|\n",
      "+------------+-------------------+\n",
      "|       Other|            3961600|\n",
      "|     Oceania|          154750000|\n",
      "|        Asia|          819617900|\n",
      "|     America|          850629800|\n",
      "|      Africa|          927323900|\n",
      "|      Europe|         1075326800|\n",
      "+------------+-------------------+\n"
     ]
    }
   ],
   "source": [
    "spark.sql(\"select joining_table.continentExp , count(joining_table.continentExp) from table as joining_table join table group by joining_table.continentExp order by count(joining_table.continentExp);\").show()"
   ]
  },
  {
   "cell_type": "code",
   "execution_count": 20,
   "id": "4eb6d060",
   "metadata": {
    "ExecuteTime": {
     "end_time": "2024-01-08T15:48:59.135732Z",
     "start_time": "2024-01-08T15:48:59.069717Z"
    }
   },
   "outputs": [],
   "source": [
    "import time\n",
    "\n",
    "epochNow = int(time.time())"
   ]
  },
  {
   "cell_type": "markdown",
   "id": "bc923bf7",
   "metadata": {},
   "source": [
    "<div align=\"right\" dir=\"auto\">\n",
    "نوشتن یکDataFrame به عنوان یک فایل parquet در HDFS\n",
    " \n",
    " </div>"
   ]
  },
  {
   "cell_type": "code",
   "execution_count": 25,
   "id": "4ecde866",
   "metadata": {
    "ExecuteTime": {
     "end_time": "2024-01-08T15:51:53.144219Z",
     "start_time": "2024-01-08T15:51:52.971483Z"
    }
   },
   "outputs": [
    {
     "ename": "AnalysisException",
     "evalue": "path hdfs://localhost:8020/covid/covid-checkpoint.csv_1704728939.parquet already exists.",
     "output_type": "error",
     "traceback": [
      "\u001B[0;31m---------------------------------------------------------------------------\u001B[0m",
      "\u001B[0;31mAnalysisException\u001B[0m                         Traceback (most recent call last)",
      "Cell \u001B[0;32mIn[25], line 1\u001B[0m\n\u001B[0;32m----> 1\u001B[0m \u001B[43mcovidDfSpark\u001B[49m\u001B[38;5;241;43m.\u001B[39;49m\u001B[43mwrite\u001B[49m\u001B[38;5;241;43m.\u001B[39;49m\u001B[43mparquet\u001B[49m\u001B[43m(\u001B[49m\u001B[38;5;124;43m\"\u001B[39;49m\u001B[38;5;124;43mhdfs://localhost:8020/covid/\u001B[39;49m\u001B[38;5;132;43;01m{}\u001B[39;49;00m\u001B[38;5;124;43m_\u001B[39;49m\u001B[38;5;132;43;01m{}\u001B[39;49;00m\u001B[38;5;124;43m.parquet\u001B[39;49m\u001B[38;5;124;43m\"\u001B[39;49m\u001B[38;5;241;43m.\u001B[39;49m\u001B[43mformat\u001B[49m\u001B[43m(\u001B[49m\u001B[43mcsvName\u001B[49m\u001B[43m,\u001B[49m\u001B[43m \u001B[49m\u001B[43mepochNow\u001B[49m\u001B[43m)\u001B[49m\u001B[43m)\u001B[49m\n\u001B[1;32m      2\u001B[0m \u001B[38;5;28mprint\u001B[39m(\u001B[38;5;124m\"\u001B[39m\u001B[38;5;124mCovid Dataframe stored in Hadoop.\u001B[39m\u001B[38;5;124m\"\u001B[39m)\n",
      "File \u001B[0;32m~/Desktop/CC_HW3/hadoop-spark/venv/lib/python3.8/site-packages/pyspark/sql/readwriter.py:1249\u001B[0m, in \u001B[0;36mDataFrameWriter.parquet\u001B[0;34m(self, path, mode, partitionBy, compression)\u001B[0m\n\u001B[1;32m   1247\u001B[0m     \u001B[38;5;28mself\u001B[39m\u001B[38;5;241m.\u001B[39mpartitionBy(partitionBy)\n\u001B[1;32m   1248\u001B[0m \u001B[38;5;28mself\u001B[39m\u001B[38;5;241m.\u001B[39m_set_opts(compression\u001B[38;5;241m=\u001B[39mcompression)\n\u001B[0;32m-> 1249\u001B[0m \u001B[38;5;28;43mself\u001B[39;49m\u001B[38;5;241;43m.\u001B[39;49m\u001B[43m_jwrite\u001B[49m\u001B[38;5;241;43m.\u001B[39;49m\u001B[43mparquet\u001B[49m\u001B[43m(\u001B[49m\u001B[43mpath\u001B[49m\u001B[43m)\u001B[49m\n",
      "File \u001B[0;32m~/Desktop/CC_HW3/hadoop-spark/venv/lib/python3.8/site-packages/py4j/java_gateway.py:1304\u001B[0m, in \u001B[0;36mJavaMember.__call__\u001B[0;34m(self, *args)\u001B[0m\n\u001B[1;32m   1298\u001B[0m command \u001B[38;5;241m=\u001B[39m proto\u001B[38;5;241m.\u001B[39mCALL_COMMAND_NAME \u001B[38;5;241m+\u001B[39m\\\n\u001B[1;32m   1299\u001B[0m     \u001B[38;5;28mself\u001B[39m\u001B[38;5;241m.\u001B[39mcommand_header \u001B[38;5;241m+\u001B[39m\\\n\u001B[1;32m   1300\u001B[0m     args_command \u001B[38;5;241m+\u001B[39m\\\n\u001B[1;32m   1301\u001B[0m     proto\u001B[38;5;241m.\u001B[39mEND_COMMAND_PART\n\u001B[1;32m   1303\u001B[0m answer \u001B[38;5;241m=\u001B[39m \u001B[38;5;28mself\u001B[39m\u001B[38;5;241m.\u001B[39mgateway_client\u001B[38;5;241m.\u001B[39msend_command(command)\n\u001B[0;32m-> 1304\u001B[0m return_value \u001B[38;5;241m=\u001B[39m \u001B[43mget_return_value\u001B[49m\u001B[43m(\u001B[49m\n\u001B[1;32m   1305\u001B[0m \u001B[43m    \u001B[49m\u001B[43manswer\u001B[49m\u001B[43m,\u001B[49m\u001B[43m \u001B[49m\u001B[38;5;28;43mself\u001B[39;49m\u001B[38;5;241;43m.\u001B[39;49m\u001B[43mgateway_client\u001B[49m\u001B[43m,\u001B[49m\u001B[43m \u001B[49m\u001B[38;5;28;43mself\u001B[39;49m\u001B[38;5;241;43m.\u001B[39;49m\u001B[43mtarget_id\u001B[49m\u001B[43m,\u001B[49m\u001B[43m \u001B[49m\u001B[38;5;28;43mself\u001B[39;49m\u001B[38;5;241;43m.\u001B[39;49m\u001B[43mname\u001B[49m\u001B[43m)\u001B[49m\n\u001B[1;32m   1307\u001B[0m \u001B[38;5;28;01mfor\u001B[39;00m temp_arg \u001B[38;5;129;01min\u001B[39;00m temp_args:\n\u001B[1;32m   1308\u001B[0m     temp_arg\u001B[38;5;241m.\u001B[39m_detach()\n",
      "File \u001B[0;32m~/Desktop/CC_HW3/hadoop-spark/venv/lib/python3.8/site-packages/pyspark/sql/utils.py:117\u001B[0m, in \u001B[0;36mcapture_sql_exception.<locals>.deco\u001B[0;34m(*a, **kw)\u001B[0m\n\u001B[1;32m    113\u001B[0m converted \u001B[38;5;241m=\u001B[39m convert_exception(e\u001B[38;5;241m.\u001B[39mjava_exception)\n\u001B[1;32m    114\u001B[0m \u001B[38;5;28;01mif\u001B[39;00m \u001B[38;5;129;01mnot\u001B[39;00m \u001B[38;5;28misinstance\u001B[39m(converted, UnknownException):\n\u001B[1;32m    115\u001B[0m     \u001B[38;5;66;03m# Hide where the exception came from that shows a non-Pythonic\u001B[39;00m\n\u001B[1;32m    116\u001B[0m     \u001B[38;5;66;03m# JVM exception message.\u001B[39;00m\n\u001B[0;32m--> 117\u001B[0m     \u001B[38;5;28;01mraise\u001B[39;00m converted \u001B[38;5;28;01mfrom\u001B[39;00m \u001B[38;5;28;01mNone\u001B[39;00m\n\u001B[1;32m    118\u001B[0m \u001B[38;5;28;01melse\u001B[39;00m:\n\u001B[1;32m    119\u001B[0m     \u001B[38;5;28;01mraise\u001B[39;00m\n",
      "\u001B[0;31mAnalysisException\u001B[0m: path hdfs://localhost:8020/covid/covid-checkpoint.csv_1704728939.parquet already exists."
     ]
    }
   ],
   "source": [
    "covidDfSpark.write.parquet(\"hdfs://localhost:8020/covid/{}_{}.parquet\".format(csvName, epochNow))\n",
    "print(\"Covid Dataframe stored in Hadoop.\")\n",
    "\n",
    "# Problem is the Jupyter notebook in docker-compose cannot run in Mac \n",
    "# So I started a Jupyter notebook in my local and this notebook cannot connect to HDFS successfully."
   ]
  },
  {
   "cell_type": "code",
   "execution_count": 26,
   "id": "d6c5e233",
   "metadata": {
    "ExecuteTime": {
     "end_time": "2024-01-08T15:51:59.952436Z",
     "start_time": "2024-01-08T15:51:59.809789Z"
    }
   },
   "outputs": [
    {
     "name": "stdout",
     "output_type": "stream",
     "text": [
      "Covid Dataframe read from Hadoop : \n",
      "+-------+---+-----+----+-----+------+-----------------------+-----+--------------------+-----------+------------+----------------------------------------------------------+\n",
      "|dateRep|day|month|year|cases|deaths|countriesAndTerritories|geoId|countryterritoryCode|popData2019|continentExp|Cumulative_number_for_14_days_of_COVID-19_cases_per_100000|\n",
      "+-------+---+-----+----+-----+------+-----------------------+-----+--------------------+-----------+------------+----------------------------------------------------------+\n",
      "+-------+---+-----+----+-----+------+-----------------------+-----+--------------------+-----------+------------+----------------------------------------------------------+\n"
     ]
    }
   ],
   "source": [
    "# Read from HDFS to confirm it was successfully stored\n",
    "\n",
    "df_load = spark.read.schema(covidDfSpark.schema).parquet(\"hdfs://localhost:8020/covid/{}_{}.parquet\".format(csvName,epochNow))\n",
    "print(\"Covid Dataframe read from Hadoop : \")\n",
    "df_load.show()"
   ]
  },
  {
   "cell_type": "markdown",
   "id": "aab73cc3",
   "metadata": {},
   "source": [
    "\n",
    "<div align=\"right\" dir=\"auto\">\n",
    "   \n",
    "#  دیتاست دوم(پترن‌های باکتری Ecoli)\n",
    " </div>\n",
    "  "
   ]
  },
  {
   "cell_type": "code",
   "execution_count": 27,
   "id": "f60f29ce",
   "metadata": {
    "ExecuteTime": {
     "end_time": "2024-01-08T15:53:52.682982Z",
     "start_time": "2024-01-08T15:53:52.654472Z"
    }
   },
   "outputs": [],
   "source": [
    "# Create a new SparkSession\n",
    "spark2 = SparkSession.builder.appName('spark-notebook-2').master('spark://localhost:7077').getOrCreate()\n",
    "\n",
    "# Create the schema\n",
    "schema = StructType([\n",
    "    StructField(\"0\", StringType(), True)])"
   ]
  },
  {
   "cell_type": "code",
   "execution_count": 28,
   "id": "f6273582",
   "metadata": {
    "ExecuteTime": {
     "end_time": "2024-01-08T15:54:01.812032Z",
     "start_time": "2024-01-08T15:54:01.682770Z"
    }
   },
   "outputs": [
    {
     "name": "stdout",
     "output_type": "stream",
     "text": [
      "Loading data from text file: ./data/ecoli.txt\n",
      "Loading data from text file: ./data/.ipynb_checkpoints/ecoli-checkpoint.txt\n"
     ]
    }
   ],
   "source": [
    "# The data from covid.csv will be loaded from a local file path\n",
    "for path, subdirs, files in os.walk('./data/'):\n",
    "    for name in files:\n",
    "        if \"ecoli\" in name and name.endswith(\".txt\"):\n",
    "            txtPath = os.path.join(path, name)\n",
    "            print(\"Loading data from text file: {}\".format(txtPath))\n",
    "            # Load the ecoli.txt file\n",
    "            lines_txt = pandas.read_csv(txtPath)"
   ]
  },
  {
   "cell_type": "code",
   "execution_count": 29,
   "id": "8a94d39b",
   "metadata": {
    "ExecuteTime": {
     "end_time": "2024-01-08T15:54:48.914271Z",
     "start_time": "2024-01-08T15:54:48.798089Z"
    }
   },
   "outputs": [],
   "source": [
    "# Create a new SparkSession\n",
    "spark2 = SparkSession.builder.appName('spark-notebook-2').master('spark://localhost:7077').getOrCreate()\n",
    "\n",
    "# Create the schema\n",
    "schema = StructType([StructField(\"0\", StringType(), True)])"
   ]
  },
  {
   "cell_type": "code",
   "execution_count": 30,
   "id": "70b616f7",
   "metadata": {
    "ExecuteTime": {
     "end_time": "2024-01-08T15:54:53.313199Z",
     "start_time": "2024-01-08T15:54:52.475507Z"
    }
   },
   "outputs": [
    {
     "name": "stderr",
     "output_type": "stream",
     "text": [
      "24/01/08 19:24:52 WARN TaskSetManager: Stage 51 contains a task of very large size (2405 KiB). The maximum recommended task size is 1000 KiB.\n"
     ]
    },
    {
     "name": "stdout",
     "output_type": "stream",
     "text": [
      "+--------------------+\n",
      "|                   0|\n",
      "+--------------------+\n",
      "|TTCTGAACTGGTTACCT...|\n",
      "|TATAGGCATAGCGCACA...|\n",
      "|ATTACCACCACCATCAC...|\n",
      "|CCCGCACCTGACAGTGC...|\n",
      "|GTTCGGCGGTACATCAG...|\n",
      "|AGGCAGGGGCAGGTGGC...|\n",
      "|AAAAAACCATTAGCGGC...|\n",
      "|GACGGGACTCGCCGCCG...|\n",
      "|GCCCAAATAAAACATGT...|\n",
      "|TGATTTGCCGTGGCGAG...|\n",
      "+--------------------+\n"
     ]
    }
   ],
   "source": [
    "lines_sp = spark2.createDataFrame(lines_txt, schema=schema)\n",
    "# Preview the structure\n",
    "lines_sp.show(10)"
   ]
  },
  {
   "cell_type": "markdown",
   "id": "8abf06ff",
   "metadata": {},
   "source": [
    "<div align=\"right\" dir=\"auto\">\n",
    "   \n",
    "#  اسپارک RDD \n",
    "\n",
    "    \n",
    " </div>\n",
    "  "
   ]
  },
  {
   "cell_type": "markdown",
   "id": "dc69a553",
   "metadata": {},
   "source": [
    "<div align=\"right\" dir=\"auto\">\n",
    "DataFrame را به RDD تبدیل کنید.\n",
    " </div>"
   ]
  },
  {
   "cell_type": "code",
   "execution_count": 31,
   "id": "907b06b6",
   "metadata": {
    "ExecuteTime": {
     "end_time": "2024-01-08T15:55:24.736879Z",
     "start_time": "2024-01-08T15:55:24.659476Z"
    }
   },
   "outputs": [],
   "source": [
    "lines_rdd = lines_sp.rdd"
   ]
  },
  {
   "cell_type": "code",
   "execution_count": 32,
   "id": "51fd0008",
   "metadata": {
    "ExecuteTime": {
     "end_time": "2024-01-08T15:55:26.334904Z",
     "start_time": "2024-01-08T15:55:26.266826Z"
    }
   },
   "outputs": [
    {
     "data": {
      "text/plain": "PythonRDD[94] at RDD at PythonRDD.scala:53"
     },
     "execution_count": 32,
     "metadata": {},
     "output_type": "execute_result"
    }
   ],
   "source": [
    "# Define the lengths for patterns (3 and 4)\n",
    "pattern_lengths = [3, 4]\n",
    "lines_rdd = lines_rdd.map(lambda row: row[0])\n",
    "lines_rdd"
   ]
  },
  {
   "cell_type": "code",
   "execution_count": 33,
   "id": "4c5c48c5",
   "metadata": {
    "ExecuteTime": {
     "end_time": "2024-01-08T15:55:32.062300Z",
     "start_time": "2024-01-08T15:55:32.040776Z"
    }
   },
   "outputs": [],
   "source": [
    "def line_to_grams(line, length):\n",
    "    ngrams = []\n",
    "    for i in range(len(line) - length + 1):\n",
    "        ngrams.append(line[i : i + length])\n",
    "    return ngrams\n",
    "\n",
    "pattern_lengths = [3, 4]"
   ]
  },
  {
   "cell_type": "markdown",
   "id": "38551abd",
   "metadata": {},
   "source": [
    "<div align=\"right\" dir=\"auto\">\n",
    "ایجاد RDD برای هر طول الگو (n-gram):\n",
    " \n",
    "ابتدا یک لیست از RDDهای n-gramها برای هر طول الگو (pattern length) ایجاد کرده.\n",
    "برای هر طول الگو، با استفاده از flatMap بر روی هر خط موجود در مجموعه داده (lines_rdd)، n-gramهای مربوط به طول الگو مورد نظر را ایجاد کرده و به لیستی از RDDها اضافه کنید.\n",
    " </div>\n",
    "  "
   ]
  },
  {
   "cell_type": "code",
   "execution_count": 34,
   "id": "f74ca3e2",
   "metadata": {
    "ExecuteTime": {
     "end_time": "2024-01-08T15:56:01.325211Z",
     "start_time": "2024-01-08T15:56:01.274276Z"
    }
   },
   "outputs": [
    {
     "data": {
      "text/plain": "[PythonRDD[95] at RDD at PythonRDD.scala:53,\n PythonRDD[96] at RDD at PythonRDD.scala:53]"
     },
     "execution_count": 34,
     "metadata": {},
     "output_type": "execute_result"
    }
   ],
   "source": [
    "ngrams_rdds = []\n",
    "for length in pattern_lengths:\n",
    "    rdd2 = lines_rdd.flatMap((lambda x: line_to_grams(x, length)))\n",
    "    ngrams_rdds.append(rdd2)                         \n",
    "ngrams_rdds"
   ]
  },
  {
   "cell_type": "markdown",
   "id": "76c6bd39",
   "metadata": {},
   "source": [
    "\n",
    "<div align=\"right\" dir=\"auto\">\n",
    " محاسبه تعداد n-gramها:\n",
    "سپس، برای هر RDD حاصل از مرحله قبل، تعداد تکرارهای هر n-gram را محاسبه کرده.\n",
    "این کار با استفاده از map و reduceByKey بر روی هر n-gram، جفت‌هایی از (n-gram, تعداد تکرار) را ایجاد کرده و سپس نتایج را به یک لیست از RDDها اضافه کرده.\n",
    "در نهایت، دو RDD ایجاد شده داده‌های مربوط به هر طول الگو را در اختیار دارند.\n",
    "     </div>"
   ]
  },
  {
   "cell_type": "code",
   "execution_count": 35,
   "id": "88668d42",
   "metadata": {
    "ExecuteTime": {
     "end_time": "2024-01-08T15:56:26.310240Z",
     "start_time": "2024-01-08T15:56:26.197714Z"
    }
   },
   "outputs": [
    {
     "data": {
      "text/plain": "[PythonRDD[105] at RDD at PythonRDD.scala:53,\n PythonRDD[106] at RDD at PythonRDD.scala:53]"
     },
     "execution_count": 35,
     "metadata": {},
     "output_type": "execute_result"
    }
   ],
   "source": [
    "count_rdds = []\n",
    "c = None\n",
    "for ngrams_rdd, length in zip(ngrams_rdds, pattern_lengths):\n",
    "    counts = ngrams_rdd.map(lambda x: (x, 1)).reduceByKey(lambda x, y: x + y)\n",
    "    count_rdds.append(counts)\n",
    "count_rdds"
   ]
  },
  {
   "cell_type": "code",
   "execution_count": 36,
   "id": "f3eed13b",
   "metadata": {
    "ExecuteTime": {
     "end_time": "2024-01-08T15:56:36.459295Z",
     "start_time": "2024-01-08T15:56:29.070737Z"
    }
   },
   "outputs": [
    {
     "name": "stderr",
     "output_type": "stream",
     "text": [
      "24/01/08 19:26:29 WARN TaskSetManager: Stage 52 contains a task of very large size (2405 KiB). The maximum recommended task size is 1000 KiB.\n",
      "24/01/08 19:26:33 WARN TaskSetManager: Stage 53 contains a task of very large size (2405 KiB). The maximum recommended task size is 1000 KiB.\n",
      "                                                                                \r"
     ]
    }
   ],
   "source": [
    "merged_rdd = count_rdds[0].union(count_rdds[1])\n",
    "dna_patterns = merged_rdd.sortByKey(ascending=False).map(lambda x: f\"{x[1]} {x[0]}\")"
   ]
  },
  {
   "cell_type": "code",
   "execution_count": 37,
   "id": "1c0f8624",
   "metadata": {
    "ExecuteTime": {
     "end_time": "2024-01-08T15:57:32.016803Z",
     "start_time": "2024-01-08T15:57:31.315383Z"
    }
   },
   "outputs": [
    {
     "data": {
      "text/plain": "['34049 TTTT',\n '23436 TTTG',\n '26181 TTTC',\n '21450 TTTA',\n '106672 TTT',\n '15951 TTGT',\n '13013 TTGG',\n '26131 TTGC',\n '18546 TTGA',\n '74786 TTG']"
     },
     "execution_count": 37,
     "metadata": {},
     "output_type": "execute_result"
    }
   ],
   "source": [
    "dna_patterns.take(10)"
   ]
  },
  {
   "cell_type": "code",
   "execution_count": 45,
   "id": "0463eaa5",
   "metadata": {
    "ExecuteTime": {
     "end_time": "2024-01-08T16:00:22.250098Z",
     "start_time": "2024-01-08T16:00:21.958891Z"
    }
   },
   "outputs": [
    {
     "data": {
      "text/plain": "PythonRDD[141] at RDD at PythonRDD.scala:53"
     },
     "execution_count": 45,
     "metadata": {},
     "output_type": "execute_result"
    }
   ],
   "source": [
    "# Split each string into two columns (ngram and count) using space as the delimiter\n",
    "split_rdd = dna_patterns.map(lambda line: line.split())\n",
    "\n",
    "# Create a DataFrame from the RDD with column names\n",
    "columns = [\"count\", \"pattern\"]\n",
    "df = spark2.createDataFrame(split_rdd, columns)\n",
    "split_rdd"
   ]
  },
  {
   "cell_type": "code",
   "execution_count": 46,
   "id": "10e7b79f",
   "metadata": {
    "ExecuteTime": {
     "end_time": "2024-01-08T16:00:23.534138Z",
     "start_time": "2024-01-08T16:00:23.296022Z"
    }
   },
   "outputs": [
    {
     "name": "stdout",
     "output_type": "stream",
     "text": [
      "+------+-------+\n",
      "| count|pattern|\n",
      "+------+-------+\n",
      "| 34049|   TTTT|\n",
      "| 23436|   TTTG|\n",
      "| 26181|   TTTC|\n",
      "| 21450|   TTTA|\n",
      "|106672|    TTT|\n",
      "| 15951|   TTGT|\n",
      "| 13013|   TTGG|\n",
      "| 26131|   TTGC|\n",
      "| 18546|   TTGA|\n",
      "| 74786|    TTG|\n",
      "+------+-------+\n"
     ]
    }
   ],
   "source": [
    "df.show(10)"
   ]
  },
  {
   "cell_type": "markdown",
   "id": "32d2b512",
   "metadata": {},
   "source": [
    "\n",
    "<div align=\"right\" dir=\"auto\">\n",
    "   \n",
    "# تابع تعریف شده توسط کاربر(UDF)\n",
    "\n",
    "یکی از مزایای اسپارک این است که نه تنها برای ما یک زبان SQL فراهم کرده که روی چندین سرور به صورت همزمان پردازش را انجام دهد بلکه \n",
    "    میتوان به زبان‌های مختلف توابعی تعریف کرد که روی  همه executor ها اجرا شود   در این بخش از شما انتظار می‌رود که با نوشتن یک UDF به زبان پایتونی    توضیحات  قسمت  قبل را انجام دهید.\n",
    "\n",
    " </div>\n",
    " \n",
    "[pyspark.sql.functions.udf](https://spark.apache.org/docs/3.1.3/api/python/reference/api/pyspark.sql.functions.udf.html)\n",
    "\n",
    "[pyspark.sql.DataFrame.withColumn](https://spark.apache.org/docs/3.1.3/api/python/reference/api/pyspark.sql.DataFrame.withColumn.html)\n",
    "\n",
    "    \n",
    "\n"
   ]
  },
  {
   "cell_type": "code",
   "execution_count": 47,
   "id": "1a2f5816",
   "metadata": {
    "ExecuteTime": {
     "end_time": "2024-01-08T16:00:27.281360Z",
     "start_time": "2024-01-08T16:00:27.265841Z"
    }
   },
   "outputs": [],
   "source": [
    "def split_string(line):\n",
    "    parts = line.split()  # Splitting assuming space as delimiter\n",
    "    return parts[0], int(parts[1]) if len(parts) > 1 else None"
   ]
  },
  {
   "cell_type": "code",
   "execution_count": 49,
   "id": "112b44dd",
   "metadata": {
    "ExecuteTime": {
     "end_time": "2024-01-08T16:01:19.509264Z",
     "start_time": "2024-01-08T16:01:19.013668Z"
    }
   },
   "outputs": [
    {
     "name": "stdout",
     "output_type": "stream",
     "text": [
      "+-----+\n",
      "|ngram|\n",
      "+-----+\n",
      "| TTTT|\n",
      "| TTTG|\n",
      "| TTTC|\n",
      "| TTTA|\n",
      "|  TTT|\n",
      "| TTGT|\n",
      "| TTGG|\n",
      "| TTGC|\n",
      "| TTGA|\n",
      "|  TTG|\n",
      "+-----+\n"
     ]
    }
   ],
   "source": [
    "from pyspark.sql.functions import col, udf\n",
    "from pyspark.sql.types import StructType, StructField, StringType, IntegerType\n",
    "\n",
    "# Define the UDF to split the string into two columns\n",
    "@udf(returnType=StructType([StructField(\"ngram\", StringType(), True), StructField(\"count\", IntegerType(), True)]))\n",
    "\n",
    "def split_string(line):\n",
    "    parts = line.split() \n",
    "    return parts[0], int(parts[1]) if len(parts) > 1 else None\n",
    "\n",
    "# Apply the UDF to create separate columns\n",
    "df_with_split = df.withColumn(\"split\", split_string(col(\"pattern\"))).select(\"split.ngram\")\n",
    "\n",
    "# Show the resulting DataFrame\n",
    "df_with_split.show(10)"
   ]
  },
  {
   "cell_type": "code",
   "outputs": [],
   "source": [],
   "metadata": {
    "collapsed": false
   },
   "id": "ca7bb2e07bde14b7"
  }
 ],
 "metadata": {
  "kernelspec": {
   "display_name": "Python 3 (ipykernel)",
   "language": "python",
   "name": "python3"
  },
  "language_info": {
   "codemirror_mode": {
    "name": "ipython",
    "version": 3
   },
   "file_extension": ".py",
   "mimetype": "text/x-python",
   "name": "python",
   "nbconvert_exporter": "python",
   "pygments_lexer": "ipython3",
   "version": "3.8.10"
  }
 },
 "nbformat": 4,
 "nbformat_minor": 5
}
