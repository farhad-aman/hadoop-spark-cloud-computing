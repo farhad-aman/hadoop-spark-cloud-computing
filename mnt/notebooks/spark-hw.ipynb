{
 "cells": [
  {
   "cell_type": "markdown",
   "id": "d17d034e",
   "metadata": {},
   "source": [
    "<div align=\"right\" dir=\"auto\">\n",
    "   \n",
    "#  دیتاست اول(COVID)\n",
    " </div>\n",
    "  "
   ]
  },
  {
   "cell_type": "markdown",
   "id": "8ac4e661",
   "metadata": {},
   "source": [
    "\n",
    "<div align=\"right\" dir=\"auto\">\n",
    "   \n",
    "##  اتصال به کلاستر اسپارک و هدوپ \n",
    "\n",
    "    در این قسمت از تمرین باید به عنوان درایور یک سسشن  به کلاستر اسپارک بسازیم.\n",
    " </div>\n",
    "  \n",
    "* **appName**: application name displayed at the Spark Master Web UI;\n",
    "* **master**: Spark Master URL, same used by Spark Workers;\n",
    "* **spark.executor.memory**: must be less than or equals to docker compose SPARK_WORKER_MEMORY config."
   ]
  },
  {
   "cell_type": "code",
   "execution_count": null,
   "id": "d9be7e9e",
   "metadata": {},
   "outputs": [],
   "source": [
    "import pyspark\n",
    "from pyspark.sql import SparkSession\n",
    "\n",
    "import os\n",
    "import pandas\n",
    "from pyspark.sql.types import *"
   ]
  },
  {
   "cell_type": "code",
   "execution_count": 46,
   "id": "90e388f5",
   "metadata": {},
   "outputs": [
    {
     "data": {
      "text/html": [
       "\n",
       "            <div>\n",
       "                <p><b>SparkSession - in-memory</b></p>\n",
       "                \n",
       "        <div>\n",
       "            <p><b>SparkContext</b></p>\n",
       "\n",
       "            <p><a href=\"http://b691aa821271:4041\">Spark UI</a></p>\n",
       "\n",
       "            <dl>\n",
       "              <dt>Version</dt>\n",
       "                <dd><code>v3.1.1</code></dd>\n",
       "              <dt>Master</dt>\n",
       "                <dd><code>spark://spark-master:7077</code></dd>\n",
       "              <dt>AppName</dt>\n",
       "                <dd><code>spark-notebook-2</code></dd>\n",
       "            </dl>\n",
       "        </div>\n",
       "        \n",
       "            </div>\n",
       "        "
      ],
      "text/plain": [
       "<pyspark.sql.session.SparkSession at 0xffff7294aa30>"
      ]
     },
     "execution_count": 46,
     "metadata": {},
     "output_type": "execute_result"
    }
   ],
   "source": [
    "spark = SparkSession.builder.appName('spark-notebook-1').master('spark://spark-master:7077').config('spark.executor.memmory', '2G').getOrCreate()\n",
    "spark"
   ]
  },
  {
   "cell_type": "markdown",
   "id": "a84b7f67",
   "metadata": {},
   "source": [
    "\n",
    "<div align=\"right\" dir=\"auto\">\n",
    "   \n",
    "#  خواندن داده \n",
    "\n",
    "    :در اسپارک ما ساختارهای مختلفی برای کار با داده و پخش شدن آن‌ها در شبکه داریم که به ۳ دسته تقسیم بندی میشوند \n",
    "+ RDD\n",
    "+ Dataset\n",
    "+ DataFrame\n",
    "    \n",
    "    \n",
    "     برای مطالعه بیشتر به لینک زیر مراجعه کنید:\n",
    "[rdd-vs-dataframe-vs-dataset](https://phoenixnap.com/kb/rdd-vs-dataframe-vs-dataset)\n",
    "\n",
    "    ما در درس با ساختار RDD آشنا شدیم حال در این تمرین میخواهیم با ساختار Dataframe آشنا شویم و به کمک آن دیتا را از روی HDFS بخوانیم و روی آن فایل‌ها پردازش انجام دهیم\n",
    " \n",
    " </div>\n",
    "  \n",
    "    "
   ]
  },
  {
   "cell_type": "code",
   "execution_count": 47,
   "id": "1b3d5238",
   "metadata": {},
   "outputs": [
    {
     "name": "stdout",
     "output_type": "stream",
     "text": [
      "Loading data from csv ./data/covid.csv\n",
      "Loading data from csv ./data/.ipynb_checkpoints/covid-checkpoint.csv\n"
     ]
    }
   ],
   "source": [
    "# The data from covid.csv will be loaded from a local file path\n",
    "for path, subdirs, files in os.walk('./data/'):\n",
    "    for name in files:\n",
    "        if \"covid\" in name:\n",
    "            csvName = name\n",
    "            csvPath = os.path.join(path, name)\n",
    "            print(\"Loading data from csv {}\".format(csvPath))\n",
    "            covidDfPandas = pandas.read_csv(csvPath)"
   ]
  },
  {
   "cell_type": "code",
   "execution_count": 48,
   "id": "18a0860b",
   "metadata": {},
   "outputs": [],
   "source": [
    "# Structure of data in the DataFrame\n",
    "schema = StructType([\n",
    "    StructField(\"dateRep\", StringType(), True),\n",
    "    StructField(\"day\", IntegerType(), True),\n",
    "    StructField(\"month\", IntegerType(), True),\n",
    "    StructField(\"year\", IntegerType(), True),\n",
    "    StructField(\"cases\", IntegerType(), True),\n",
    "    StructField(\"deaths\", IntegerType(), True),\n",
    "    StructField(\"countriesAndTerritories\", StringType(), True),\n",
    "    StructField(\"geoId\", StringType(), True),\n",
    "    StructField(\"countryterritoryCode\", StringType(), True),\n",
    "    StructField(\"popData2019\", FloatType(), True),\n",
    "    StructField(\"continentExp\", StringType(), True),\n",
    "    StructField(\"Cumulative_number_for_14_days_of_COVID-19_cases_per_100000\", DoubleType(), True),\n",
    "])"
   ]
  },
  {
   "cell_type": "markdown",
   "id": "61f3ce61",
   "metadata": {},
   "source": [
    "\n",
    "<div align=\"right\" dir=\"auto\">\n",
    "یک DataFrame از Pandas را به یک DataFrame از Spark تبدیل کنید و سپس طرح ساختاری و برخی از داده‌ها را نمایش دهید.\n",
    " </div>\n",
    "  \n",
    "    \n",
    "\n",
    "\n"
   ]
  },
  {
   "cell_type": "code",
   "execution_count": 49,
   "id": "001721be",
   "metadata": {},
   "outputs": [
    {
     "name": "stdout",
     "output_type": "stream",
     "text": [
      "root\n",
      " |-- dateRep: string (nullable = true)\n",
      " |-- day: integer (nullable = true)\n",
      " |-- month: integer (nullable = true)\n",
      " |-- year: integer (nullable = true)\n",
      " |-- cases: integer (nullable = true)\n",
      " |-- deaths: integer (nullable = true)\n",
      " |-- countriesAndTerritories: string (nullable = true)\n",
      " |-- geoId: string (nullable = true)\n",
      " |-- countryterritoryCode: string (nullable = true)\n",
      " |-- popData2019: float (nullable = true)\n",
      " |-- continentExp: string (nullable = true)\n",
      " |-- Cumulative_number_for_14_days_of_COVID-19_cases_per_100000: double (nullable = true)\n",
      "\n"
     ]
    }
   ],
   "source": [
    "# Convert Pandas DataFrame to Spark DataFrame with defined schema\n",
    "covidDfSpark = spark.createDataFrame(covidDfPandas.values.tolist(), schema=schema)\n",
    "\n",
    "# Show the DataFrame schema and some data\n",
    "covidDfSpark.printSchema()"
   ]
  },
  {
   "cell_type": "markdown",
   "id": "60b0b189",
   "metadata": {},
   "source": [
    "\n",
    "<div align=\"right\" dir=\"auto\">\n",
    "   \n",
    "#  اسپارک SQL \n",
    "\n",
    "    مهمترین قابلیت اسپارک این است که می‌تواند با خواندن فایل‌ها به صورت توزیع شده روی آن‌ها پردازش انجام دهد و این پردازش را برنامه ‌نویس میتواند با استفاده از دستورات SQL اعمال کند\n",
    "    در این بخش از شما انتظار می‌رود که به وسیله spark SQL  به اسپارک کوئری  بزنید . \n",
    "    \n",
    "    \n",
    " </div>\n",
    "\n",
    "[pyspark.sql.functions.col](https://spark.apache.org/docs/latest/api/python/reference/pyspark.sql/api/pyspark.sql.functions.col.html)\n",
    "\n",
    "[pyspark.sql.DataFrame.count](https://spark.apache.org/docs/latest/api/python/reference/pyspark.sql/api/pyspark.sql.DataFrame.count.html)\n",
    "\n",
    "[pyspark.sql.DataFrame.filter](https://spark.apache.org/docs/latest/api/python/reference/pyspark.sql/api/pyspark.sql.DataFrame.filter.html)\n",
    "\n",
    "[pyspark.sql.DataFrame.groupBy](https://spark.apache.org/docs/3.1.1/api/python/reference/api/pyspark.sql.DataFrame.groupBy.html)"
   ]
  },
  {
   "cell_type": "markdown",
   "id": "c16157bb",
   "metadata": {},
   "source": [
    "<div align=\"right\" dir=\"auto\">\n",
    "برای اینکه بتوانیم روی دیتای لود شده به وسیله تابع  spark.sql\n",
    "    کوئری‌های SQL بزنیم\n",
    "    باید دو دیتاست لود شده را به عنوان table\n",
    "    به spark \n",
    "    معرفی کنیم\n",
    "</div>"
   ]
  },
  {
   "cell_type": "code",
   "execution_count": 50,
   "id": "f074a117",
   "metadata": {},
   "outputs": [],
   "source": [
    "covidDfSpark.registerTempTable(\"covid\")"
   ]
  },
  {
   "cell_type": "markdown",
   "id": "5c01fd06",
   "metadata": {},
   "source": [
    "<div align=\"right\" dir=\"auto\">\n",
    " ده رکورد آخر را نمایش دهید\n",
    "</div>"
   ]
  },
  {
   "cell_type": "code",
   "execution_count": 51,
   "id": "b47fcece",
   "metadata": {},
   "outputs": [
    {
     "name": "stderr",
     "output_type": "stream",
     "text": [
      "2023-12-06 19:28:40,878 WARN scheduler.TaskSetManager: Stage 30 contains a task of very large size (1650 KiB). The maximum recommended task size is 1000 KiB.\n"
     ]
    },
    {
     "name": "stdout",
     "output_type": "stream",
     "text": [
      "+----------+---+-----+----+-----+------+-----------------------+-----+--------------------+------------+------------+----------------------------------------------------------+\n",
      "|   dateRep|day|month|year|cases|deaths|countriesAndTerritories|geoId|countryterritoryCode| popData2019|continentExp|Cumulative_number_for_14_days_of_COVID-19_cases_per_100000|\n",
      "+----------+---+-----+----+-----+------+-----------------------+-----+--------------------+------------+------------+----------------------------------------------------------+\n",
      "|31/12/2019| 31|   12|2019|    0|     0|             Luxembourg|   LU|                 LUX|    613894.0|      Europe|                                                       NaN|\n",
      "|31/12/2019| 31|   12|2019|    0|     0|                 Norway|   NO|                 NOR|   5328212.0|      Europe|                                                       NaN|\n",
      "|31/12/2019| 31|   12|2019|    0|     0|               Malaysia|   MY|                 MYS| 3.1949788E7|        Asia|                                                       NaN|\n",
      "|31/12/2019| 31|   12|2019|    0|     0|                Lebanon|   LB|                 LBN|   6855709.0|        Asia|                                                       NaN|\n",
      "|31/12/2019| 31|   12|2019|    0|     0|                 Mexico|   MX|                 MEX|1.27575528E8|     America|                                                       NaN|\n",
      "|31/12/2019| 31|   12|2019|    0|     0|            Netherlands|   NL|                 NLD| 1.7282164E7|      Europe|                                                       NaN|\n",
      "|31/12/2019| 31|   12|2019|    0|     0|        North_Macedonia|   MK|                 MKD|   2077132.0|      Europe|                                                       NaN|\n",
      "|31/12/2019| 31|   12|2019|    0|     0|            New_Zealand|   NZ|                 NZL|   4783062.0|     Oceania|                                                       NaN|\n",
      "|31/12/2019| 31|   12|2019|    0|     0|              Lithuania|   LT|                 LTU|   2794184.0|      Europe|                                                       NaN|\n",
      "|31/12/2019| 31|   12|2019|    0|     0|                Nigeria|   NG|                 NGA|  2.009636E8|      Africa|                                                       NaN|\n",
      "+----------+---+-----+----+-----+------+-----------------------+-----+--------------------+------------+------------+----------------------------------------------------------+\n",
      "\n"
     ]
    }
   ],
   "source": [
    "# to-do\n"
   ]
  },
  {
   "cell_type": "markdown",
   "id": "717c41bd",
   "metadata": {},
   "source": [
    "<div align=\"right\" dir=\"auto\">\n",
    "اسکیما یا ساختار دیتاست ها را نمایش دهید\n",
    "\n",
    "</div>"
   ]
  },
  {
   "cell_type": "code",
   "execution_count": 52,
   "id": "ab2a3f6e",
   "metadata": {},
   "outputs": [
    {
     "name": "stdout",
     "output_type": "stream",
     "text": [
      "+--------------------+---------+-------+\n",
      "|            col_name|data_type|comment|\n",
      "+--------------------+---------+-------+\n",
      "|             dateRep|   string|   null|\n",
      "|                 day|      int|   null|\n",
      "|               month|      int|   null|\n",
      "|                year|      int|   null|\n",
      "|               cases|      int|   null|\n",
      "|              deaths|      int|   null|\n",
      "|countriesAndTerri...|   string|   null|\n",
      "|               geoId|   string|   null|\n",
      "|countryterritoryCode|   string|   null|\n",
      "|         popData2019|    float|   null|\n",
      "|        continentExp|   string|   null|\n",
      "|Cumulative_number...|   double|   null|\n",
      "+--------------------+---------+-------+\n",
      "\n"
     ]
    }
   ],
   "source": [
    "# to-do\n"
   ]
  },
  {
   "cell_type": "code",
   "execution_count": 100,
   "id": "7863a98c",
   "metadata": {},
   "outputs": [
    {
     "name": "stdout",
     "output_type": "stream",
     "text": [
      "root\n",
      " |-- dateRep: string (nullable = true)\n",
      " |-- day: integer (nullable = true)\n",
      " |-- month: integer (nullable = true)\n",
      " |-- year: integer (nullable = true)\n",
      " |-- cases: integer (nullable = true)\n",
      " |-- deaths: integer (nullable = true)\n",
      " |-- countriesAndTerritories: string (nullable = true)\n",
      " |-- geoId: string (nullable = true)\n",
      " |-- countryterritoryCode: string (nullable = true)\n",
      " |-- popData2019: float (nullable = true)\n",
      " |-- continentExp: string (nullable = true)\n",
      " |-- Cumulative_number_for_14_days_of_COVID-19_cases_per_100000: double (nullable = true)\n",
      "\n"
     ]
    }
   ],
   "source": [
    "covidDfSpark.printSchema()"
   ]
  },
  {
   "cell_type": "markdown",
   "id": "650732f2",
   "metadata": {},
   "source": [
    "<div align=\"right\" dir=\"auto\">\n",
    "داده‌های مربوط به ستون   countryterritoryCode ,deaths را پرینت کنید(۱۰تا) \n",
    "\n",
    "</div>"
   ]
  },
  {
   "cell_type": "code",
   "execution_count": 149,
   "id": "965001d1",
   "metadata": {},
   "outputs": [
    {
     "name": "stdout",
     "output_type": "stream",
     "text": [
      "+------+--------------------+\n",
      "|deaths|countryterritoryCode|\n",
      "+------+--------------------+\n",
      "|     6|                 AFG|\n",
      "|     9|                 AFG|\n",
      "|    11|                 AFG|\n",
      "|    10|                 AFG|\n",
      "|    16|                 AFG|\n",
      "|    13|                 AFG|\n",
      "|     6|                 AFG|\n",
      "|    26|                 AFG|\n",
      "|    10|                 AFG|\n",
      "|    18|                 AFG|\n",
      "+------+--------------------+\n",
      "only showing top 10 rows\n",
      "\n"
     ]
    },
    {
     "name": "stderr",
     "output_type": "stream",
     "text": [
      "2023-12-07 12:04:01,615 WARN scheduler.TaskSetManager: Stage 247 contains a task of very large size (1650 KiB). The maximum recommended task size is 1000 KiB.\n"
     ]
    }
   ],
   "source": [
    "# to-do\n"
   ]
  },
  {
   "cell_type": "markdown",
   "id": "a4ed8916",
   "metadata": {},
   "source": [
    "<div align=\"right\" dir=\"auto\">\n",
    "تعداد کل موارد Covid برابر است با?\n",
    "</div>"
   ]
  },
  {
   "cell_type": "code",
   "execution_count": 54,
   "id": "b0c508c2",
   "metadata": {},
   "outputs": [
    {
     "name": "stderr",
     "output_type": "stream",
     "text": [
      "2023-12-06 19:30:28,934 WARN scheduler.TaskSetManager: Stage 32 contains a task of very large size (1650 KiB). The maximum recommended task size is 1000 KiB.\n"
     ]
    },
    {
     "name": "stdout",
     "output_type": "stream",
     "text": [
      "Number of all Covid is 61900\n"
     ]
    }
   ],
   "source": [
    "# to-do\n"
   ]
  },
  {
   "cell_type": "markdown",
   "id": "1c90f7ee",
   "metadata": {},
   "source": [
    "<div align=\"right\" dir=\"auto\">\n",
    "مجموع موارد کروناویروس در اکتبر ۲۰۲۰ در بلژیک را به دست آورید.\n",
    "</div>\n",
    "\n"
   ]
  },
  {
   "cell_type": "code",
   "execution_count": 55,
   "id": "b9b06a2a",
   "metadata": {},
   "outputs": [
    {
     "name": "stdout",
     "output_type": "stream",
     "text": [
      "+----------+\n",
      "|TotalCases|\n",
      "+----------+\n",
      "|    320023|\n",
      "+----------+\n",
      "\n"
     ]
    },
    {
     "name": "stderr",
     "output_type": "stream",
     "text": [
      "2023-12-06 19:30:39,687 WARN scheduler.TaskSetManager: Stage 34 contains a task of very large size (1650 KiB). The maximum recommended task size is 1000 KiB.\n"
     ]
    }
   ],
   "source": [
    "# to-do\n"
   ]
  },
  {
   "cell_type": "markdown",
   "id": "d8a17df2",
   "metadata": {},
   "source": [
    "\n",
    "<div align=\"right\" dir=\"auto\">\n",
    "جمع تعداد موارد و مرگ‌ها در کشورهای آسیا به دست آورید.\n",
    " \n",
    " </div>\n"
   ]
  },
  {
   "cell_type": "code",
   "execution_count": 60,
   "id": "1bc7105b",
   "metadata": {},
   "outputs": [
    {
     "name": "stderr",
     "output_type": "stream",
     "text": [
      "2023-12-06 19:35:02,269 WARN scheduler.TaskSetManager: Stage 42 contains a task of very large size (1650 KiB). The maximum recommended task size is 1000 KiB.\n"
     ]
    },
    {
     "name": "stdout",
     "output_type": "stream",
     "text": [
      "+--------------------+----------+-----------+\n",
      "|countryterritoryCode|TotalCases|TotalDeaths|\n",
      "+--------------------+----------+-----------+\n",
      "|                 PSE|    124657|       1079|\n",
      "|                 HTI|      9565|        234|\n",
      "|                 BRB|       292|          7|\n",
      "|                 LVA|     25675|        349|\n",
      "|                 POL|   1135676|      22864|\n",
      "|                 JAM|     11710|        273|\n",
      "|                 ZMB|     18274|        367|\n",
      "|                 BRA|   6901952|     181402|\n",
      "|                 ARM|    148682|       2503|\n",
      "|                 MOZ|     16954|        142|\n",
      "+--------------------+----------+-----------+\n",
      "only showing top 10 rows\n",
      "\n"
     ]
    }
   ],
   "source": [
    "# to-do\n"
   ]
  },
  {
   "cell_type": "markdown",
   "id": "f2e3b305",
   "metadata": {},
   "source": [
    "\n",
    "<div align=\"right\" dir=\"auto\">\n",
    "میانگین تعداد موارد و مرگ‌ها در کشورهای آسیا به دست آورید.\n",
    " \n",
    " </div>\n"
   ]
  },
  {
   "cell_type": "code",
   "execution_count": 61,
   "id": "36135c8e",
   "metadata": {},
   "outputs": [
    {
     "name": "stdout",
     "output_type": "stream",
     "text": [
      "Average number of cases and deaths in the countries of Asia:\n"
     ]
    },
    {
     "name": "stderr",
     "output_type": "stream",
     "text": [
      "2023-12-06 19:36:03,207 WARN scheduler.TaskSetManager: Stage 48 contains a task of very large size (1650 KiB). The maximum recommended task size is 1000 KiB.\n"
     ]
    },
    {
     "name": "stdout",
     "output_type": "stream",
     "text": [
      "+-----------------+----------------+-----------------+\n",
      "|          country|Average of cases|Average of deaths|\n",
      "+-----------------+----------------+-----------------+\n",
      "|      Afghanistan|          144.92|              5.8|\n",
      "|          Bahrain|          255.42|              1.0|\n",
      "|       Bangladesh|         1783.76|            25.64|\n",
      "|           Bhutan|            1.59|              0.0|\n",
      "|Brunei_Darussalam|            0.54|             0.01|\n",
      "|         Cambodia|            1.05|              0.0|\n",
      "|            China|          262.92|            13.54|\n",
      "|            India|         28321.2|           410.76|\n",
      "|        Indonesia|         1801.22|            54.87|\n",
      "|             Iran|         3166.48|           149.13|\n",
      "+-----------------+----------------+-----------------+\n",
      "only showing top 10 rows\n",
      "\n"
     ]
    }
   ],
   "source": [
    "# to-do\n"
   ]
  },
  {
   "cell_type": "markdown",
   "id": "320c7362",
   "metadata": {},
   "source": [
    "\n",
    "<div align=\"right\" dir=\"auto\">\n",
    "جمع مرگ‌های کووید در اروپا بر اساس تاریخ به دست آورید.\n",
    " \n",
    " </div>"
   ]
  },
  {
   "cell_type": "code",
   "execution_count": 62,
   "id": "0f563c90",
   "metadata": {},
   "outputs": [
    {
     "name": "stdout",
     "output_type": "stream",
     "text": [
      "Sum of deaths of Covid in Europe by date:\n"
     ]
    },
    {
     "name": "stderr",
     "output_type": "stream",
     "text": [
      "2023-12-06 19:36:48,949 WARN scheduler.TaskSetManager: Stage 50 contains a task of very large size (1650 KiB). The maximum recommended task size is 1000 KiB.\n"
     ]
    },
    {
     "name": "stdout",
     "output_type": "stream",
     "text": [
      "+----------+--------------------------------+\n",
      "|   dateRep|Sum of deaths of Covid in Europe|\n",
      "+----------+--------------------------------+\n",
      "|25/11/2020|                            6391|\n",
      "|02/12/2020|                            6195|\n",
      "|09/12/2020|                            6074|\n",
      "|28/11/2020|                            6001|\n",
      "|21/11/2020|                            5909|\n",
      "|18/11/2020|                            5829|\n",
      "|05/12/2020|                            5783|\n",
      "|03/12/2020|                            5728|\n",
      "|26/11/2020|                            5719|\n",
      "|04/12/2020|                            5716|\n",
      "+----------+--------------------------------+\n",
      "only showing top 10 rows\n",
      "\n"
     ]
    }
   ],
   "source": [
    "# to-do\n"
   ]
  },
  {
   "cell_type": "markdown",
   "id": "0668c3ed",
   "metadata": {},
   "source": [
    "\n",
    "<div align=\"right\" dir=\"auto\">\n",
    "   \n",
    "#  اسپارک toPandas \n",
    "\n",
    "    یکی ار قابلیت‌های اسپارک این است که می‌توان dataframe های آن را به \n",
    "    dataframe های pandas تبدیل کند و از توابع آن از جمله\n",
    "    توابع plot  آن برای رسم نمودار استفاده کرد.\n",
    "    در این قسمت از شما انتظار می‌رود نمودار تعداد جنگ‌ها بر اساس هر گونه را رسم کنید.\n",
    "    \n",
    " </div>\n",
    "  \n",
    "    \n",
    "\n",
    "  \n",
    "[pyspark.sql.DataFrame.toPandas](https://spark.apache.org/docs/latest/api/python/reference/pyspark.sql/api/pyspark.sql.DataFrame.toPandas.html)\n",
    "\n",
    "[pyspark.pandas.DataFrame.plot](https://spark.apache.org/docs/3.2.1/api/python/reference/pyspark.pandas/api/pyspark.pandas.DataFrame.plot.html)\n"
   ]
  },
  {
   "cell_type": "markdown",
   "id": "3afab484",
   "metadata": {},
   "source": [
    "\n",
    "<div align=\"right\" dir=\"auto\">\n",
    "جمع موارد و مرگ‌ها برای هر قاره را به دست آورید.\n",
    " \n",
    " </div>"
   ]
  },
  {
   "cell_type": "code",
   "execution_count": 88,
   "id": "c3d413c6",
   "metadata": {},
   "outputs": [
    {
     "name": "stderr",
     "output_type": "stream",
     "text": [
      "2023-12-06 19:48:14,718 WARN scheduler.TaskSetManager: Stage 93 contains a task of very large size (1650 KiB). The maximum recommended task size is 1000 KiB.\n"
     ]
    },
    {
     "name": "stdout",
     "output_type": "stream",
     "text": [
      "+------------+-----+\n",
      "|continentExp|count|\n",
      "+------------+-----+\n",
      "|      Europe|17372|\n",
      "|      Africa|14981|\n",
      "|     America|13742|\n",
      "|        Asia|13241|\n",
      "|     Oceania| 2500|\n",
      "|       Other|   64|\n",
      "+------------+-----+\n",
      "\n"
     ]
    },
    {
     "name": "stderr",
     "output_type": "stream",
     "text": [
      "2023-12-06 19:48:15,270 WARN scheduler.TaskSetManager: Stage 95 contains a task of very large size (1650 KiB). The maximum recommended task size is 1000 KiB.\n"
     ]
    },
    {
     "data": {
      "text/plain": [
       "<Axes: xlabel='continentExp'>"
      ]
     },
     "execution_count": 88,
     "metadata": {},
     "output_type": "execute_result"
    },
    {
     "data": {
      "image/png": "[encoded data removed]",
      "text/plain": [
       "<Figure size 640x480 with 1 Axes>"
      ]
     },
     "metadata": {},
     "output_type": "display_data"
    }
   ],
   "source": [
    "# to-do\n"
   ]
  },
  {
   "cell_type": "markdown",
   "id": "dc50faa7",
   "metadata": {},
   "source": [
    "<div align=\"right\" dir=\"auto\">\n",
    "نمودار مبتلایان در طور زمان را برای کشور ایران را بنویسید. \n",
    "    \n",
    " </div>\n",
    "  "
   ]
  },
  {
   "cell_type": "code",
   "execution_count": 145,
   "id": "c009b28e",
   "metadata": {},
   "outputs": [
    {
     "name": "stderr",
     "output_type": "stream",
     "text": [
      "2023-12-07 07:44:49,209 WARN scheduler.TaskSetManager: Stage 242 contains a task of very large size (1650 KiB). The maximum recommended task size is 1000 KiB.\n",
      "2023-12-07 07:44:49,329 WARN scheduler.TaskSetManager: Stage 243 contains a task of very large size (1650 KiB). The maximum recommended task size is 1000 KiB.\n"
     ]
    },
    {
     "data": {
      "image/png": "[encoded data removed]",
      "text/plain": [
       "<Figure size 1000x600 with 1 Axes>"
      ]
     },
     "metadata": {},
     "output_type": "display_data"
    }
   ],
   "source": [
    "# to-do \n"
   ]
  },
  {
   "cell_type": "code",
   "execution_count": 143,
   "id": "e3f74f6b",
   "metadata": {},
   "outputs": [
    {
     "name": "stdout",
     "output_type": "stream",
     "text": [
      "+----------+\n",
      "|      date|\n",
      "+----------+\n",
      "|2020-12-14|\n",
      "|2020-12-13|\n",
      "|2020-12-12|\n",
      "|2020-12-11|\n",
      "|2020-12-10|\n",
      "|2020-12-09|\n",
      "|2020-12-08|\n",
      "|2020-12-07|\n",
      "|2020-12-06|\n",
      "|2020-12-05|\n",
      "|2020-12-04|\n",
      "|2020-12-03|\n",
      "|2020-12-02|\n",
      "|2020-12-01|\n",
      "|2020-11-30|\n",
      "|2020-11-29|\n",
      "|2020-11-28|\n",
      "|2020-11-27|\n",
      "|2020-11-26|\n",
      "|2020-11-25|\n",
      "+----------+\n",
      "only showing top 20 rows\n",
      "\n"
     ]
    },
    {
     "name": "stderr",
     "output_type": "stream",
     "text": [
      "2023-12-07 07:44:14,534 WARN scheduler.TaskSetManager: Stage 238 contains a task of very large size (1650 KiB). The maximum recommended task size is 1000 KiB.\n"
     ]
    }
   ],
   "source": [
    "# Assuming you have a DataFrame named covidDfSpark\n",
    "iran_cases_2020.select('date').show(20)"
   ]
  },
  {
   "cell_type": "markdown",
   "id": "edeb0786",
   "metadata": {},
   "source": [
    "\n",
    "<div align=\"right\" dir=\"auto\">\n",
    "   \n",
    "#  اسپارک Shuffle \n",
    "\n",
    "    Spark SQL shuffle مکانیزمی است برای توزیع مجدد یا پارتیشن بندی مجدد داده ها به طوری که داده ها به طور متفاوت در پارتیشن ها گروه بندی می شوند، بر اساس اندازه داده شما ممکن است نیاز باشد تعداد پارتیشن های RDD/DataFrame را با استفاده از اسپارک کاهش یا افزایش دهید.\n",
    "    برای مثال وقتی روی دو dataframe مختلف که روی شبکه توزیع شده اند\n",
    "    دستور join را میزنیم یک عملیات \n",
    "    shuffling انجام میشود\n",
    "    در این قسمت از شما انتظار می‌رود کوئری جوین زیر را نوشته و اجرا کنید همچنین به  صفحه \n",
    "    application master ui\n",
    "    مراجعه کنید و نحوه shuffleing را گزارش کنید . \n",
    "     و همچنین توضیح دهید DAG scheduler  در اسپارک چیست ؟\n",
    " </div>\n",
    "  \n",
    "    \n",
    "\n",
    "  \n",
    "[shuffling in standalone cluster](https://medium.com/@rachit1arora/apache-spark-shuffle-service-there-are-more-than-one-options-c1a8e098230e)\n",
    "\n"
   ]
  },
  {
   "cell_type": "markdown",
   "id": "94a81987",
   "metadata": {},
   "source": [
    "\n",
    "\n",
    "<div align=\"right\" dir=\"auto\">\n",
    "از desc در PySpark برای مرتب‌سازی نزولی استفاده  کرده و با استفاده از alias یک self-join روی DataFrame covidDfSpark انجام دهید، سپس با گروه‌بندی بر اساس ستون a.continentExp از داده‌های پیوسته، تعداد وقوع‌ها شمرده شده و نتایج نمایش دهید. \n",
    "</div>\n",
    "\n"
   ]
  },
  {
   "cell_type": "code",
   "execution_count": 69,
   "id": "535f6324",
   "metadata": {},
   "outputs": [
    {
     "name": "stderr",
     "output_type": "stream",
     "text": [
      "2023-12-06 19:41:41,762 WARN scheduler.TaskSetManager: Stage 62 contains a task of very large size (1650 KiB). The maximum recommended task size is 1000 KiB.\n",
      "2023-12-06 19:41:41,851 WARN scheduler.TaskSetManager: Stage 63 contains a task of very large size (1650 KiB). The maximum recommended task size is 1000 KiB.\n",
      "[Stage 64:====================================================> (195 + 2) / 200]\r"
     ]
    },
    {
     "name": "stdout",
     "output_type": "stream",
     "text": [
      "+------------+-------+\n",
      "|continentExp|  count|\n",
      "+------------+-------+\n",
      "|      Europe|5552906|\n",
      "|        Asia|4236133|\n",
      "|      Africa|4105321|\n",
      "|     America|3886864|\n",
      "|     Oceania| 680812|\n",
      "|       Other|   4096|\n",
      "+------------+-------+\n",
      "\n"
     ]
    },
    {
     "name": "stderr",
     "output_type": "stream",
     "text": [
      "                                                                                \r"
     ]
    }
   ],
   "source": [
    "# to -do\n"
   ]
  },
  {
   "cell_type": "code",
   "execution_count": 63,
   "id": "4eb6d060",
   "metadata": {},
   "outputs": [],
   "source": [
    "import time\n",
    "\n",
    "epochNow = int(time.time())"
   ]
  },
  {
   "cell_type": "markdown",
   "id": "bc923bf7",
   "metadata": {},
   "source": [
    "<div align=\"right\" dir=\"auto\">\n",
    "نوشتن یکDataFrame به عنوان یک فایل parquet در HDFS\n",
    " \n",
    " </div>"
   ]
  },
  {
   "cell_type": "code",
   "execution_count": 64,
   "id": "4ecde866",
   "metadata": {},
   "outputs": [
    {
     "name": "stderr",
     "output_type": "stream",
     "text": [
      "2023-12-06 19:39:11,078 WARN scheduler.TaskSetManager: Stage 52 contains a task of very large size (1650 KiB). The maximum recommended task size is 1000 KiB.\n",
      "[Stage 52:>                                                         (0 + 2) / 2]\r"
     ]
    },
    {
     "name": "stdout",
     "output_type": "stream",
     "text": [
      "Covid Dataframe stored in Hadoop.\n"
     ]
    },
    {
     "name": "stderr",
     "output_type": "stream",
     "text": [
      "                                                                                \r"
     ]
    }
   ],
   "source": [
    "covidDfSpark.write.parquet(\"hdfs://namenode:8020/covid/{}_{}.parquet\".format(csvName,epochNow))\n",
    "print(\"Covid Dataframe stored in Hadoop.\")"
   ]
  },
  {
   "cell_type": "code",
   "execution_count": 65,
   "id": "d6c5e233",
   "metadata": {},
   "outputs": [
    {
     "name": "stdout",
     "output_type": "stream",
     "text": [
      "Covid Dataframe read from Hadoop : \n",
      "+----------+---+-----+----+-----+------+-----------------------+-----+--------------------+-----------+------------+----------------------------------------------------------+\n",
      "|   dateRep|day|month|year|cases|deaths|countriesAndTerritories|geoId|countryterritoryCode|popData2019|continentExp|Cumulative_number_for_14_days_of_COVID-19_cases_per_100000|\n",
      "+----------+---+-----+----+-----+------+-----------------------+-----+--------------------+-----------+------------+----------------------------------------------------------+\n",
      "|08/09/2020|  8|    9|2020|   80|     1|             Kazakhstan|   KZ|                 KAZ|1.8551428E7|        Asia|                                               36.33682539|\n",
      "|07/09/2020|  7|    9|2020|  199|     1|             Kazakhstan|   KZ|                 KAZ|1.8551428E7|        Asia|                                               35.90559174|\n",
      "|06/09/2020|  6|    9|2020|  896|     8|             Kazakhstan|   KZ|                 KAZ|1.8551428E7|        Asia|                                               36.22901698|\n",
      "|05/09/2020|  5|    9|2020|  104|     0|             Kazakhstan|   KZ|                 KAZ|1.8551428E7|        Asia|                                                36.5740039|\n",
      "|04/09/2020|  4|    9|2020|  570|     4|             Kazakhstan|   KZ|                 KAZ|1.8551428E7|        Asia|                                               40.90790208|\n",
      "|03/09/2020|  3|    9|2020|  659|     6|             Kazakhstan|   KZ|                 KAZ|1.8551428E7|        Asia|                                               43.11258411|\n",
      "|02/09/2020|  2|    9|2020|   99|    68|             Kazakhstan|   KZ|                 KAZ|1.8551428E7|        Asia|                                               45.11782058|\n",
      "|01/09/2020|  1|    9|2020|  923|    34|             Kazakhstan|   KZ|                 KAZ|1.8551428E7|        Asia|                                               51.87201762|\n",
      "|31/08/2020| 31|    8|2020|    0|     0|             Kazakhstan|   KZ|                 KAZ|1.8551428E7|        Asia|                                               48.69705987|\n",
      "|30/08/2020| 30|    8|2020|  633|     0|             Kazakhstan|   KZ|                 KAZ|1.8551428E7|        Asia|                                               51.27368093|\n",
      "|29/08/2020| 29|    8|2020| 1422|     0|             Kazakhstan|   KZ|                 KAZ|1.8551428E7|        Asia|                                               55.30032513|\n",
      "|28/08/2020| 28|    8|2020|  954|     0|             Kazakhstan|   KZ|                 KAZ|1.8551428E7|        Asia|                                               54.46480993|\n",
      "|27/08/2020| 27|    8|2020|  202|     0|             Kazakhstan|   KZ|                 KAZ|1.8551428E7|        Asia|                                               56.92284173|\n",
      "|26/08/2020| 26|    8|2020|    0|     0|             Kazakhstan|   KZ|                 KAZ|1.8551428E7|        Asia|                                               63.86031307|\n",
      "|25/08/2020| 25|    8|2020|    0|   108|             Kazakhstan|   KZ|                 KAZ|1.8551428E7|        Asia|                                               75.25566226|\n",
      "|24/08/2020| 24|    8|2020|  259|     2|             Kazakhstan|   KZ|                 KAZ|1.8551428E7|        Asia|                                               79.45479992|\n",
      "|23/08/2020| 23|    8|2020|  960|     8|             Kazakhstan|   KZ|                 KAZ|1.8551428E7|        Asia|                                               82.91005954|\n",
      "|22/08/2020| 22|    8|2020|  908|     5|             Kazakhstan|   KZ|                 KAZ|1.8551428E7|        Asia|                                               87.88541777|\n",
      "|21/08/2020| 21|    8|2020|  979|     6|             Kazakhstan|   KZ|                 KAZ|1.8551428E7|        Asia|                                               93.82027087|\n",
      "|20/08/2020| 20|    8|2020| 1031|     6|             Kazakhstan|   KZ|                 KAZ|1.8551428E7|        Asia|                                              101.50162025|\n",
      "+----------+---+-----+----+-----+------+-----------------------+-----+--------------------+-----------+------------+----------------------------------------------------------+\n",
      "only showing top 20 rows\n",
      "\n"
     ]
    }
   ],
   "source": [
    "# Read from HDFS to confirm it was successfully stored\n",
    "\n",
    "df_load = spark.read.parquet(\"hdfs://namenode:8020/covid/{}_{}.parquet\".format(csvName,epochNow))\n",
    "print(\"Covid Dataframe read from Hadoop : \")\n",
    "df_load.show()"
   ]
  },
  {
   "cell_type": "markdown",
   "id": "aab73cc3",
   "metadata": {},
   "source": [
    "\n",
    "<div align=\"right\" dir=\"auto\">\n",
    "   \n",
    "#  دیتاست دوم(پترن‌های باکتری Ecoli)\n",
    " </div>\n",
    "  "
   ]
  },
  {
   "cell_type": "code",
   "execution_count": 70,
   "id": "f60f29ce",
   "metadata": {},
   "outputs": [],
   "source": [
    "# Create a new SparkSession\n",
    "spark2 = SparkSession.builder.appName('spark-notebook-2').master('spark://spark-master:7077').getOrCreate()\n",
    "\n",
    "# Create the schema\n",
    "schema = StructType([\n",
    "    StructField(\"0\", StringType(), True)])"
   ]
  },
  {
   "cell_type": "code",
   "execution_count": 71,
   "id": "f6273582",
   "metadata": {},
   "outputs": [
    {
     "name": "stdout",
     "output_type": "stream",
     "text": [
      "Loading data from text file: ./data/ecoli.txt\n",
      "Loading data from text file: ./data/.ipynb_checkpoints/ecoli-checkpoint.txt\n"
     ]
    }
   ],
   "source": [
    "# The data from covid.csv will be loaded from a local file path\n",
    "for path, subdirs, files in os.walk('./data/'):\n",
    "    for name in files:\n",
    "        if \"ecoli\" in name and name.endswith(\".txt\"):\n",
    "            txtPath = os.path.join(path, name)\n",
    "            print(\"Loading data from text file: {}\".format(txtPath))\n",
    "            # Load the ecoli.txt file\n",
    "            lines_txt = pandas.read_csv(txtPath)"
   ]
  },
  {
   "cell_type": "code",
   "execution_count": 24,
   "id": "8a94d39b",
   "metadata": {},
   "outputs": [],
   "source": [
    "# Create a new SparkSession\n",
    "spark2 = SparkSession.builder.appName('spark-notebook-2').master('spark://spark-master:7077').getOrCreate()\n",
    "\n",
    "# Create the schema\n",
    "schema = StructType([StructField(\"0\", StringType(), True)])"
   ]
  },
  {
   "cell_type": "code",
   "execution_count": 89,
   "id": "70b616f7",
   "metadata": {},
   "outputs": [
    {
     "name": "stdout",
     "output_type": "stream",
     "text": [
      "+--------------------+\n",
      "|                   0|\n",
      "+--------------------+\n",
      "|TTCTGAACTGGTTACCT...|\n",
      "|TATAGGCATAGCGCACA...|\n",
      "|ATTACCACCACCATCAC...|\n",
      "|CCCGCACCTGACAGTGC...|\n",
      "|GTTCGGCGGTACATCAG...|\n",
      "|AGGCAGGGGCAGGTGGC...|\n",
      "|AAAAAACCATTAGCGGC...|\n",
      "|GACGGGACTCGCCGCCG...|\n",
      "|GCCCAAATAAAACATGT...|\n",
      "|TGATTTGCCGTGGCGAG...|\n",
      "+--------------------+\n",
      "only showing top 10 rows\n",
      "\n"
     ]
    },
    {
     "name": "stderr",
     "output_type": "stream",
     "text": [
      "2023-12-06 19:59:41,297 WARN scheduler.TaskSetManager: Stage 100 contains a task of very large size (2405 KiB). The maximum recommended task size is 1000 KiB.\n"
     ]
    }
   ],
   "source": [
    "lines_sp = spark2.createDataFrame(lines_txt, schema=schema)\n",
    "# Preview the structure\n",
    "lines_sp.show(10)"
   ]
  },
  {
   "cell_type": "markdown",
   "id": "8abf06ff",
   "metadata": {},
   "source": [
    "<div align=\"right\" dir=\"auto\">\n",
    "   \n",
    "#  اسپارک RDD \n",
    "\n",
    "    \n",
    " </div>\n",
    "  "
   ]
  },
  {
   "cell_type": "markdown",
   "id": "dc69a553",
   "metadata": {},
   "source": [
    "<div align=\"right\" dir=\"auto\">\n",
    "DataFrame را به RDD تبدیل کنید.\n",
    " </div>"
   ]
  },
  {
   "cell_type": "code",
   "execution_count": 74,
   "id": "907b06b6",
   "metadata": {},
   "outputs": [],
   "source": [
    "# to-do\n"
   ]
  },
  {
   "cell_type": "code",
   "execution_count": 91,
   "id": "51fd0008",
   "metadata": {},
   "outputs": [
    {
     "data": {
      "text/plain": [
       "PythonRDD[251] at RDD at PythonRDD.scala:53"
      ]
     },
     "execution_count": 91,
     "metadata": {},
     "output_type": "execute_result"
    }
   ],
   "source": [
    "# Define the lengths for patterns (3 and 4)\n",
    "pattern_lengths = [3, 4]\n",
    "lines_rdd = lines_rdd.map(lambda row: row[0])\n",
    "lines_rdd"
   ]
  },
  {
   "cell_type": "code",
   "execution_count": 92,
   "id": "4c5c48c5",
   "metadata": {},
   "outputs": [],
   "source": [
    "def line_to_grams(line, length):\n",
    "    ngrams = []\n",
    "    for i in range(len(line) - length + 1):\n",
    "        ngrams.append(line[i : i + length])\n",
    "    return ngrams\n",
    "\n",
    "pattern_lengths = [3, 4]"
   ]
  },
  {
   "cell_type": "markdown",
   "id": "38551abd",
   "metadata": {},
   "source": [
    "<div align=\"right\" dir=\"auto\">\n",
    "ایجاد RDD برای هر طول الگو (n-gram):\n",
    " \n",
    "ابتدا یک لیست از RDDهای n-gramها برای هر طول الگو (pattern length) ایجاد کرده.\n",
    "برای هر طول الگو، با استفاده از flatMap بر روی هر خط موجود در مجموعه داده (lines_rdd)، n-gramهای مربوط به طول الگو مورد نظر را ایجاد کرده و به لیستی از RDDها اضافه کنید.\n",
    " </div>\n",
    "  "
   ]
  },
  {
   "cell_type": "code",
   "execution_count": 93,
   "id": "f74ca3e2",
   "metadata": {},
   "outputs": [
    {
     "data": {
      "text/plain": [
       "[PythonRDD[252] at RDD at PythonRDD.scala:53,\n",
       " PythonRDD[253] at RDD at PythonRDD.scala:53]"
      ]
     },
     "execution_count": 93,
     "metadata": {},
     "output_type": "execute_result"
    }
   ],
   "source": [
    "ngrams_rdds = []\n",
    "for length in pattern_lengths:\n",
    "    # to-do\n",
    "    \n",
    "ngrams_rdds"
   ]
  },
  {
   "cell_type": "markdown",
   "id": "76c6bd39",
   "metadata": {},
   "source": [
    "\n",
    "<div align=\"right\" dir=\"auto\">\n",
    " محاسبه تعداد n-gramها:\n",
    "سپس، برای هر RDD حاصل از مرحله قبل، تعداد تکرارهای هر n-gram را محاسبه کرده.\n",
    "این کار با استفاده از map و reduceByKey بر روی هر n-gram، جفت‌هایی از (n-gram, تعداد تکرار) را ایجاد کرده و سپس نتایج را به یک لیست از RDDها اضافه کرده.\n",
    "در نهایت، دو RDD ایجاد شده داده‌های مربوط به هر طول الگو را در اختیار دارند.\n",
    "     </div>"
   ]
  },
  {
   "cell_type": "code",
   "execution_count": 95,
   "id": "88668d42",
   "metadata": {},
   "outputs": [
    {
     "data": {
      "text/plain": [
       "[PythonRDD[262] at RDD at PythonRDD.scala:53,\n",
       " PythonRDD[263] at RDD at PythonRDD.scala:53]"
      ]
     },
     "execution_count": 95,
     "metadata": {},
     "output_type": "execute_result"
    }
   ],
   "source": [
    "count_rdds = []\n",
    "for ngrams_rdd, length in zip(ngrams_rdds, pattern_lengths):\n",
    "    # to-do\n",
    "    \n",
    "count_rdds "
   ]
  },
  {
   "cell_type": "code",
   "execution_count": 98,
   "id": "f3eed13b",
   "metadata": {},
   "outputs": [],
   "source": [
    "merged_rdd = count_rdds[0].union(count_rdds[1])\n",
    "dna_patterns = merged_rdd.sortByKey(ascending=False).map(lambda x: f\"{x[1]} {x[0]}\")"
   ]
  },
  {
   "cell_type": "code",
   "execution_count": 81,
   "id": "1c0f8624",
   "metadata": {},
   "outputs": [
    {
     "data": {
      "text/plain": [
       "['CGC 112398',\n",
       " 'GCG 111418',\n",
       " 'TTT 106672',\n",
       " 'AAA 105850',\n",
       " 'CAG 101927',\n",
       " 'CTG 99892',\n",
       " 'GCA 93338',\n",
       " 'TGC 92456',\n",
       " 'GCC 90317',\n",
       " 'GGC 89538']"
      ]
     },
     "execution_count": 81,
     "metadata": {},
     "output_type": "execute_result"
    }
   ],
   "source": [
    "dna_patterns.take(10)"
   ]
  },
  {
   "cell_type": "code",
   "execution_count": 84,
   "id": "0463eaa5",
   "metadata": {},
   "outputs": [
    {
     "data": {
      "text/plain": [
       "PythonRDD[216] at RDD at PythonRDD.scala:53"
      ]
     },
     "execution_count": 84,
     "metadata": {},
     "output_type": "execute_result"
    }
   ],
   "source": [
    "# Split each string into two columns (ngram and count) using space as the delimiter\n",
    "split_rdd = dna_patterns.map(lambda line: line.split())\n",
    "\n",
    "# Create a DataFrame from the RDD with column names\n",
    "columns = [\"pattern\", \"count\"]\n",
    "df = spark2.createDataFrame(split_rdd, columns)\n",
    "split_rdd"
   ]
  },
  {
   "cell_type": "code",
   "execution_count": 39,
   "id": "10e7b79f",
   "metadata": {},
   "outputs": [
    {
     "name": "stdout",
     "output_type": "stream",
     "text": [
      "+-------+------+\n",
      "|pattern| count|\n",
      "+-------+------+\n",
      "|    CGC|112398|\n",
      "|    GCG|111418|\n",
      "|    TTT|106672|\n",
      "|    AAA|105850|\n",
      "|    CAG|101927|\n",
      "|    CTG| 99892|\n",
      "|    GCA| 93338|\n",
      "|    TGC| 92456|\n",
      "|    GCC| 90317|\n",
      "|    GGC| 89538|\n",
      "+-------+------+\n",
      "only showing top 10 rows\n",
      "\n"
     ]
    }
   ],
   "source": [
    "df.show(10)"
   ]
  },
  {
   "cell_type": "markdown",
   "id": "32d2b512",
   "metadata": {},
   "source": [
    "\n",
    "<div align=\"right\" dir=\"auto\">\n",
    "   \n",
    "# تابع تعریف شده توسط کاربر(UDF)\n",
    "\n",
    "یکی از مزایای اسپارک این است که نه تنها برای ما یک زبان SQL فراهم کرده که روی چندین سرور به صورت همزمان پردازش را انجام دهد بلکه \n",
    "    میتوان به زبان‌های مختلف توابعی تعریف کرد که روی  همه executor ها اجرا شود   در این بخش از شما انتظار می‌رود که با نوشتن یک UDF به زبان پایتونی    توضیحات  قسمت  قبل را انجام دهید.\n",
    "\n",
    " </div>\n",
    " \n",
    "[pyspark.sql.functions.udf](https://spark.apache.org/docs/3.1.3/api/python/reference/api/pyspark.sql.functions.udf.html)\n",
    "\n",
    "[pyspark.sql.DataFrame.withColumn](https://spark.apache.org/docs/3.1.3/api/python/reference/api/pyspark.sql.DataFrame.withColumn.html)\n",
    "\n",
    "    \n",
    "\n"
   ]
  },
  {
   "cell_type": "code",
   "execution_count": null,
   "id": "1a2f5816",
   "metadata": {},
   "outputs": [],
   "source": [
    "def split_string(line):\n",
    "    parts = line.split()  # Splitting assuming space as delimiter\n",
    "    return parts[0], int(parts[1]) if len(parts) > 1 else None"
   ]
  },
  {
   "cell_type": "code",
   "execution_count": 87,
   "id": "112b44dd",
   "metadata": {},
   "outputs": [
    {
     "name": "stdout",
     "output_type": "stream",
     "text": [
      "+-----+\n",
      "|ngram|\n",
      "+-----+\n",
      "|  CGC|\n",
      "|  GCG|\n",
      "|  TTT|\n",
      "|  AAA|\n",
      "|  CAG|\n",
      "|  CTG|\n",
      "|  GCA|\n",
      "|  TGC|\n",
      "|  GCC|\n",
      "|  GGC|\n",
      "+-----+\n",
      "only showing top 10 rows\n",
      "\n"
     ]
    }
   ],
   "source": [
    "from pyspark.sql.functions import col\n",
    "from pyspark.sql.functions import udf\n",
    "\n",
    "# Define the UDF to split the string into two columns\n",
    "# to-do\n",
    "\n",
    "# Apply the UDF to create separate columns\n",
    "df_with_split = ....\n",
    "\n",
    "# Show the resulting DataFrame\n",
    "# to-do"
   ]
  }
 ],
 "metadata": {
  "kernelspec": {
   "display_name": "Python 3 (ipykernel)",
   "language": "python",
   "name": "python3"
  },
  "language_info": {
   "codemirror_mode": {
    "name": "ipython",
    "version": 3
   },
   "file_extension": ".py",
   "mimetype": "text/x-python",
   "name": "python",
   "nbconvert_exporter": "python",
   "pygments_lexer": "ipython3",
   "version": "3.8.10"
  }
 },
 "nbformat": 4,
 "nbformat_minor": 5
}
